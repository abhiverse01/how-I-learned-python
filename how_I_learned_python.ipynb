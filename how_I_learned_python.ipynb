{
  "nbformat": 4,
  "nbformat_minor": 0,
  "metadata": {
    "colab": {
      "provenance": [],
      "authorship_tag": "ABX9TyPAvRO5/QES2KCmrDqsHuIN",
      "include_colab_link": true
    },
    "kernelspec": {
      "name": "python3",
      "display_name": "Python 3"
    },
    "language_info": {
      "name": "python"
    }
  },
  "cells": [
    {
      "cell_type": "markdown",
      "metadata": {
        "id": "view-in-github",
        "colab_type": "text"
      },
      "source": [
        "<a href=\"https://colab.research.google.com/github/abhiverse01/how-I-learned-python/blob/main/how_I_learned_python.ipynb\" target=\"_parent\"><img src=\"https://colab.research.google.com/assets/colab-badge.svg\" alt=\"Open In Colab\"/></a>"
      ]
    },
    {
      "cell_type": "markdown",
      "source": [
        "# **how-I-learned-python**\n"
      ],
      "metadata": {
        "id": "2kOqV47Ls6CA"
      }
    },
    {
      "cell_type": "markdown",
      "source": [
        "-----------------------------------------\n",
        "Owned by: **Abhishek Shah**\n",
        "\n",
        "Mail me at: **www.abhishekshah007@gmail.com**\n",
        "\n",
        "Github Repository Link: https://github.com/abhiverse01/how-I-learned-python/blob/main/how_I_learned_python.ipynb\n",
        "\n",
        "-----------------------------------------"
      ],
      "metadata": {
        "id": "fXjIT9VHLKqC"
      }
    },
    {
      "cell_type": "markdown",
      "source": [
        "This colab notebook is a collection of all the code snippets and resources that I used while learning python. It works for me almost as a refresher course now.\n",
        "\n",
        "I'm slowly updating this notebook. It may not feel complete yet. But, I promise to continue updating it.\n",
        "\n",
        "Follow this notebook, if you're stuck while trying to learning python sequentially. This one can be a good resource for you.\n",
        "\n",
        "**Hope you enjoy and learn!!!**"
      ],
      "metadata": {
        "id": "3pbWPzcdxY21"
      }
    },
    {
      "cell_type": "markdown",
      "source": [
        "### Step 1: Choose a Code Editor. Here's some options:\n",
        "*   **PyCharm:** Specialized Python editor.\n",
        "*   **VSCode:** Good for almost all programming languages.\n",
        "*   **Colab:** Colab notebook is mostly online and can also be used within VSCode.\n",
        "\n",
        "Here's some resources for setting up your python environment:\n",
        "\n",
        "*   **VSCode Setup:** https://www.youtube.com/watch?v=RUGm1Lwc55s&pp=ygUhc2V0dGluZyB1cCB0aGUgcHl0aG9uIGVudmlyb25tZW50\n",
        "*   **Pycharm Setup:** https://www.youtube.com/watch?v=TfZzPjMJDeY&pp=ygUUcHljaGFybSBpbnN0YWxsYXRpb24%3D\n",
        "*   **Colab Notebook:** It requires no setup. It comes with ready-to-go for starting to code in python.\n",
        "\n",
        "### Step 2: Install Python in your Environment.\n",
        "\n",
        "*   **pip install python:** For Pycharm and VSCode ones. Just put `pip instal python` in the terminal and it will install the latest version of python programming language in your system.\n",
        "\n",
        "*   **!pip install python:** For colab. ! Exclamation sign is used for running bash scripts in the Colab cell.\n",
        "\n",
        "### Step 3: We're Ready to Start Coding. Yay 👏👏👏\n",
        "### Miscellaneous:\n",
        "\n",
        "*   **.ipynb:** It is the file-extension of a colab notebook. It stands for, **\"Interactive Python Notebook\"**.\n",
        "*   **.py:** It is the file extension for a Python file. As obvious it is, it stands for **\"Python\"**.\n",
        "*   **pip**: It is the standard package manager for Python. It allows you to install and manage packages that aren't part of the Python standard library. It stands for, **\"Python Program Installer\"**.\n",
        "\n"
      ],
      "metadata": {
        "id": "He0Z9lqhNBfA"
      }
    },
    {
      "cell_type": "code",
      "execution_count": null,
      "metadata": {
        "colab": {
          "base_uri": "https://localhost:8080/"
        },
        "id": "ZgG6BuPTxTEP",
        "outputId": "ef8236be-1a84-4c11-d3ff-d524834113b2"
      },
      "outputs": [
        {
          "output_type": "stream",
          "name": "stdout",
          "text": [
            "Hello, World\n"
          ]
        }
      ],
      "source": [
        "# the first program\n",
        "\n",
        "print('Hello, World')"
      ]
    },
    {
      "cell_type": "code",
      "source": [
        "# check python version\n",
        "# ! exclamation sign is needed to run shell commands in colab notebook.\n",
        "# If you're using other terminals such as PyCharm or VSCode. you don't need to use exclamaiton sign.\n",
        "# you can directly use it in your PyCharm of VSCode terminal.\n",
        "\n",
        "!python --version"
      ],
      "metadata": {
        "colab": {
          "base_uri": "https://localhost:8080/"
        },
        "id": "TG8rXWVXx951",
        "outputId": "764c6255-cf15-4c30-bfa6-2569bf13a80b"
      },
      "execution_count": null,
      "outputs": [
        {
          "output_type": "stream",
          "name": "stdout",
          "text": [
            "Python 3.10.12\n"
          ]
        }
      ]
    },
    {
      "cell_type": "markdown",
      "source": [
        "We will go slow and learn each line of code, each syntax representation, and the meaning of each symbol. So, sit tight and relax. Hope it serves you well."
      ],
      "metadata": {
        "id": "R91_EmN2y3WK"
      }
    },
    {
      "cell_type": "markdown",
      "source": [
        "**The symbol \"#\" is used before you want to write a comment**. It's so that, Once, the compiler sees the # sign at the beginning of a line. It knows, it's just a comment and need not be interpreted during program execution."
      ],
      "metadata": {
        "id": "7CAsvMXLzDTt"
      }
    },
    {
      "cell_type": "code",
      "source": [
        "# This is a comment\n",
        "print('Hello, World') # Comment can also be written here.\n",
        "# Here as well, It won't affect the program execution at all.\n"
      ],
      "metadata": {
        "colab": {
          "base_uri": "https://localhost:8080/"
        },
        "id": "84mP1miKypfI",
        "outputId": "9dfa8074-e1e6-44d6-a45a-92d1f67627f1"
      },
      "execution_count": null,
      "outputs": [
        {
          "output_type": "stream",
          "name": "stdout",
          "text": [
            "Hello, World\n"
          ]
        }
      ]
    },
    {
      "cell_type": "markdown",
      "source": [
        "# Mutli-Line comments/Multi-line Strings\n",
        "Comments are simple one-liners for the coders to go back and understand what they made. But sometimes you may need comments that could be more than a one-liner. That is when you need to use Multi-line commenting. It starts with \"\"\" and it has to be ended as well with the same \"\"\"."
      ],
      "metadata": {
        "id": "4Wn1wzm4z25X"
      }
    },
    {
      "cell_type": "code",
      "source": [
        "\"\"\"\n",
        "This is a form of multi-line comments.\n",
        "It can be in more than one line.\n",
        "It has to stat and end both with a triple quotation.\n",
        "\"\"\""
      ],
      "metadata": {
        "colab": {
          "base_uri": "https://localhost:8080/",
          "height": 53
        },
        "id": "L1lOOYP_ztAL",
        "outputId": "b280413e-a159-414d-e53d-1ee04f7ddfad"
      },
      "execution_count": null,
      "outputs": [
        {
          "output_type": "execute_result",
          "data": {
            "text/plain": [
              "'\\nThis is a form of multi-line comments.\\nIt can be in more than one line.\\nIt has to stat and end both with a triple quotation.\\n'"
            ],
            "application/vnd.google.colaboratory.intrinsic+json": {
              "type": "string"
            }
          },
          "metadata": {},
          "execution_count": 83
        }
      ]
    },
    {
      "cell_type": "code",
      "source": [
        "# \\n represents new-line"
      ],
      "metadata": {
        "id": "x_vbL-qn0uB0"
      },
      "execution_count": null,
      "outputs": []
    },
    {
      "cell_type": "markdown",
      "source": [
        "Let's create a variable. It's a container to store a value. And by the name suggests, a variable is place-holder whose value can be varied."
      ],
      "metadata": {
        "id": "Tcc6GlL604Lj"
      }
    },
    {
      "cell_type": "code",
      "source": [
        "x = 5 # a varible with value 5 and is of type integer, int.\n",
        "y = \"John\" # a variable with value \"John\" and is of type string, str.\n",
        "print(x)\n",
        "print(y)"
      ],
      "metadata": {
        "colab": {
          "base_uri": "https://localhost:8080/"
        },
        "id": "w9sAOKhN00y7",
        "outputId": "1d9e8a11-69b7-4c7b-a2b8-c209e36b3196"
      },
      "execution_count": null,
      "outputs": [
        {
          "output_type": "stream",
          "name": "stdout",
          "text": [
            "5\n",
            "John\n"
          ]
        }
      ]
    },
    {
      "cell_type": "markdown",
      "source": [
        "To understand the concept of datatypes such as: Integer, Float, Strings in python, have a look at the official python documentation on RealPython. Their documentation is rich and well-explanatory.\n",
        "\n",
        "Here's the links to Python Variables: https://realpython.com/python-variables/\n"
      ],
      "metadata": {
        "id": "RxN8vK4X1Zf7"
      }
    },
    {
      "cell_type": "markdown",
      "source": [
        "# TypeCasting.\n",
        "\n",
        "Sometimes the kind of datatype that a variable is about to store, can be explicitly identified. It's okay to not do it explicitly, as python does detect the kind of data stored in a variable automatically. However, to ensure clarity in some cases, typecasting is an efficient and neat approach."
      ],
      "metadata": {
        "id": "guR_vhOA2Pxw"
      }
    },
    {
      "cell_type": "code",
      "source": [
        "# Here, a is not actually a number 3 but a string '3'.\n",
        "# So, you won't be able to add it to another string until you re-typecast it to become integer again.\n",
        "# You can append it though to another similar string. We will be seeing it later on.\n",
        "a = str(3)\n",
        "b = int(3)\n",
        "c = float(3)\n",
        "\n",
        "print(a)  # a is a string\n",
        "print(b) # b is an integer\n",
        "print(c) # c is an floating-point, 3.0 is a floating point number.\n"
      ],
      "metadata": {
        "colab": {
          "base_uri": "https://localhost:8080/"
        },
        "id": "Kn7ki1kH1QSh",
        "outputId": "3f7ee163-0bb4-43de-9c98-67262c7e1334"
      },
      "execution_count": null,
      "outputs": [
        {
          "output_type": "stream",
          "name": "stdout",
          "text": [
            "3\n",
            "3\n",
            "3.0\n"
          ]
        }
      ]
    },
    {
      "cell_type": "code",
      "source": [
        "# you can also check the type of any variable\n",
        "\n",
        "a = 5\n",
        "b = \"your_name\"\n",
        "\n",
        "print(type(a)) # type(object) > give the datatype of the object.\n",
        "# for this case, it would be <class 'int'>"
      ],
      "metadata": {
        "colab": {
          "base_uri": "https://localhost:8080/"
        },
        "id": "NPmDdfqp2umg",
        "outputId": "a83996b9-cbfb-4269-e3cb-dca77412ba23"
      },
      "execution_count": null,
      "outputs": [
        {
          "output_type": "stream",
          "name": "stdout",
          "text": [
            "<class 'int'>\n"
          ]
        }
      ]
    },
    {
      "cell_type": "markdown",
      "source": [
        "# Python is Case-Sensitive.\n",
        "This means that \"a\" and \"A\" are two different characters for it."
      ],
      "metadata": {
        "id": "-yco9kCz4Cp0"
      }
    },
    {
      "cell_type": "code",
      "source": [
        "# case-sensitive test\n",
        "\n",
        "a = 4\n",
        "A = \"Your_name\"\n",
        "\n",
        "print(a, A)\n",
        "# See instead of printing same values, it does print different values."
      ],
      "metadata": {
        "colab": {
          "base_uri": "https://localhost:8080/"
        },
        "id": "NXDvFn6z35RR",
        "outputId": "7105f426-bf72-4e63-95dc-2f18b7c2f3d4"
      },
      "execution_count": null,
      "outputs": [
        {
          "output_type": "stream",
          "name": "stdout",
          "text": [
            "4 Your_name\n"
          ]
        }
      ]
    },
    {
      "cell_type": "markdown",
      "source": [
        "Oh, yes, you can print as many variable you want by keepint them inside the same print() function. Just keep adding commas, and adding variable."
      ],
      "metadata": {
        "id": "RnLJx0iK4d7D"
      }
    },
    {
      "cell_type": "markdown",
      "source": [
        "# Variable Naming Rules\n",
        "\n",
        "A variable can have a short name (like x and y) or a more descriptive name (age, carname, total_volume).\n",
        "\n",
        "While coding, you will be naming your variables, and there is a standard procedure for that, you just shouldn't randomly name your variables. Follow a simple set of rules for it.\n",
        "\n",
        "Here you go!!!\n",
        "\n",
        "*   A variable name must start with a letter or the underscore character.\n",
        "*   A variable name cannot start with a number.\n",
        "*   A variable name can only contain alpha-numeric characters and underscore. (A-z, 0-9, and _ )\n",
        "*   Variable names are case-sensitive (age, Age and AGE are three different. variables)\n",
        "*   A variable name cannot be any of the Python keywords.\n",
        "\n",
        "## Python Keywords\n",
        "Python keywords are the predefined words that are defined by the makers of the python programming language. Take one example, def. it's a python keyword that is used while creating a function.\n",
        "\n",
        "You should check out the documentation of python keywords for learning about it in detail. Here's a good source for it.\n",
        "\n",
        "Link: https://blog.hubspot.com/website/python-keywords#:~:text=A%20Python%20keyword%20is%20a,the%20syntax%20of%20the%20code."
      ],
      "metadata": {
        "id": "grvn-T0V4s55"
      }
    },
    {
      "cell_type": "code",
      "source": [
        "# good variables and bad variables\n",
        "# good ones.\n",
        "myvariable = \"Your_name\"\n",
        "my_var = \"Your_name\"\n",
        "# bad ones\n",
        "2myvar = \"Your_name\"\n",
        "my-var = \"Your_name\"\n",
        "\n",
        "# see the first two variable worked and then next two variables throw an errror."
      ],
      "metadata": {
        "colab": {
          "base_uri": "https://localhost:8080/",
          "height": 106
        },
        "id": "vOsXEvVd4R3E",
        "outputId": "0b750a8e-f94b-46e0-b795-b0593b12090c"
      },
      "execution_count": null,
      "outputs": [
        {
          "output_type": "error",
          "ename": "SyntaxError",
          "evalue": "invalid decimal literal (<ipython-input-90-c7cc5d216c08>, line 6)",
          "traceback": [
            "\u001b[0;36m  File \u001b[0;32m\"<ipython-input-90-c7cc5d216c08>\"\u001b[0;36m, line \u001b[0;32m6\u001b[0m\n\u001b[0;31m    2myvar = \"Your_name\"\u001b[0m\n\u001b[0m    ^\u001b[0m\n\u001b[0;31mSyntaxError\u001b[0m\u001b[0;31m:\u001b[0m invalid decimal literal\n"
          ]
        }
      ]
    },
    {
      "cell_type": "markdown",
      "source": [
        "## MultiWord Variable.\n",
        "Now, you sometimes may need to create a multi-word variable. There are several conventions that can make you look professional while choosing a variable.\n",
        "\n",
        "Some famous ones are:\n",
        "\n",
        "**Camel Case:** Each word, except the first, starts with a capital letter.\n",
        "\n",
        "**Pascal Case:** Each word starts with a capital letter.\n",
        "\n",
        "**Snake Case:** Each word is separated by an underscore character."
      ],
      "metadata": {
        "id": "74K2Wln76_P1"
      }
    },
    {
      "cell_type": "code",
      "source": [
        "# camel case convention\n",
        "myVariableName = \"Your_name\"\n",
        "\n",
        "# pascal case convention\n",
        "MyVariableName = \"Your_name\"\n",
        "\n",
        "# snake case convention\n",
        "my_variable_name = \"Your_name\""
      ],
      "metadata": {
        "id": "crwLRM3X6yVj"
      },
      "execution_count": null,
      "outputs": []
    },
    {
      "cell_type": "markdown",
      "source": [
        "## Multi-Value Assignment\n",
        "Same as printing multiple variables within the same print() function, we can also values to multiple variable in one line, in Python."
      ],
      "metadata": {
        "id": "Xm93GT3C7_pK"
      }
    },
    {
      "cell_type": "code",
      "source": [
        "x, y, z = \"Your_name\", \"My_name\", \"Her_name\"\n",
        "print(x)\n",
        "print(y)\n",
        "print(z)"
      ],
      "metadata": {
        "colab": {
          "base_uri": "https://localhost:8080/"
        },
        "id": "SuA7gjVn773l",
        "outputId": "90800084-8ba0-4a31-bca7-a6d39f622f7f"
      },
      "execution_count": null,
      "outputs": [
        {
          "output_type": "stream",
          "name": "stdout",
          "text": [
            "Your_name\n",
            "My_name\n",
            "Her_name\n"
          ]
        }
      ]
    },
    {
      "cell_type": "markdown",
      "source": [
        "You can assign the same value to multiple variables, within the same line."
      ],
      "metadata": {
        "id": "l0WsdO488Zfy"
      }
    },
    {
      "cell_type": "code",
      "source": [
        "x = y = z = \"Your_name\"\n",
        "print(x)\n",
        "print(y)\n",
        "print(z)"
      ],
      "metadata": {
        "colab": {
          "base_uri": "https://localhost:8080/"
        },
        "id": "usxK4rNQ8Wrj",
        "outputId": "bf665eb2-6f30-4591-8352-877271d24fb4"
      },
      "execution_count": null,
      "outputs": [
        {
          "output_type": "stream",
          "name": "stdout",
          "text": [
            "Your_name\n",
            "Your_name\n",
            "Your_name\n"
          ]
        }
      ]
    },
    {
      "cell_type": "markdown",
      "source": [
        "## Unpacking into Variables.\n",
        "Now, let's imagine you have a list of three values. To assign each element in that list to a variable either you need to go over all the items one by one or, there's an approach called unpacking the list.\n",
        "\n",
        "Here's the approach. You create a list with; suppose 5 elements. Now, you need to use all those five variable in one one line and give the list to it. One be one, each variable shall get the corresponding item from that list."
      ],
      "metadata": {
        "id": "MSwYuWCs8uxc"
      }
    },
    {
      "cell_type": "code",
      "source": [
        "fruits = [\"Your_name\", \"My_name\", \"Her_name\", \"Your_Ex\", \"Her_Next\"]\n",
        "a, b, x, y, z = fruits\n",
        "\n",
        "print(a)\n",
        "print(b)\n",
        "print(x)\n",
        "print(y)\n",
        "print(z)\n",
        "\n",
        "print(a, b, x, y, z)"
      ],
      "metadata": {
        "colab": {
          "base_uri": "https://localhost:8080/"
        },
        "id": "xpIeGR8f8sAs",
        "outputId": "7081cd8c-5788-4022-9b5e-16f3ae1d001a"
      },
      "execution_count": null,
      "outputs": [
        {
          "output_type": "stream",
          "name": "stdout",
          "text": [
            "Your_name\n",
            "My_name\n",
            "Her_name\n",
            "Your_Ex\n",
            "Her_Next\n",
            "Your_name My_name Her_name Your_Ex Her_Next\n"
          ]
        }
      ]
    },
    {
      "cell_type": "code",
      "source": [
        "# the number of variables must be the same as the number of elements in the list.\n",
        "# If not, you will get the too many values to unpack error.\n",
        "\n",
        "\n",
        "fruits = [\"Your_name\", \"My_name\", \"Her_name\", \"Your_Ex\", \"Her_Next\"]\n",
        "a, b, x, y = fruits\n",
        "\n",
        "print(a)\n",
        "print(b)\n",
        "print(x)\n",
        "print(y)\n",
        "# print(z)\n",
        "\n",
        "# print(a, b, x, y, z)"
      ],
      "metadata": {
        "colab": {
          "base_uri": "https://localhost:8080/",
          "height": 211
        },
        "id": "4w787S_r9tMk",
        "outputId": "b1a751fa-9ac8-430a-efb5-ad0dfc5843ca"
      },
      "execution_count": null,
      "outputs": [
        {
          "output_type": "error",
          "ename": "ValueError",
          "evalue": "too many values to unpack (expected 4)",
          "traceback": [
            "\u001b[0;31m---------------------------------------------------------------------------\u001b[0m",
            "\u001b[0;31mValueError\u001b[0m                                Traceback (most recent call last)",
            "\u001b[0;32m<ipython-input-95-55e0dfbe579e>\u001b[0m in \u001b[0;36m<cell line: 6>\u001b[0;34m()\u001b[0m\n\u001b[1;32m      4\u001b[0m \u001b[0;34m\u001b[0m\u001b[0m\n\u001b[1;32m      5\u001b[0m \u001b[0mfruits\u001b[0m \u001b[0;34m=\u001b[0m \u001b[0;34m[\u001b[0m\u001b[0;34m\"Your_name\"\u001b[0m\u001b[0;34m,\u001b[0m \u001b[0;34m\"My_name\"\u001b[0m\u001b[0;34m,\u001b[0m \u001b[0;34m\"Her_name\"\u001b[0m\u001b[0;34m,\u001b[0m \u001b[0;34m\"Your_Ex\"\u001b[0m\u001b[0;34m,\u001b[0m \u001b[0;34m\"Her_Next\"\u001b[0m\u001b[0;34m]\u001b[0m\u001b[0;34m\u001b[0m\u001b[0;34m\u001b[0m\u001b[0m\n\u001b[0;32m----> 6\u001b[0;31m \u001b[0ma\u001b[0m\u001b[0;34m,\u001b[0m \u001b[0mb\u001b[0m\u001b[0;34m,\u001b[0m \u001b[0mx\u001b[0m\u001b[0;34m,\u001b[0m \u001b[0my\u001b[0m \u001b[0;34m=\u001b[0m \u001b[0mfruits\u001b[0m\u001b[0;34m\u001b[0m\u001b[0;34m\u001b[0m\u001b[0m\n\u001b[0m\u001b[1;32m      7\u001b[0m \u001b[0;34m\u001b[0m\u001b[0m\n\u001b[1;32m      8\u001b[0m \u001b[0mprint\u001b[0m\u001b[0;34m(\u001b[0m\u001b[0ma\u001b[0m\u001b[0;34m)\u001b[0m\u001b[0;34m\u001b[0m\u001b[0;34m\u001b[0m\u001b[0m\n",
            "\u001b[0;31mValueError\u001b[0m: too many values to unpack (expected 4)"
          ]
        }
      ]
    },
    {
      "cell_type": "markdown",
      "source": [
        "### Remember what I told you about appending strings within python.\n",
        "\n",
        "I said, you cannot add strings. But, you can append them together. It means, you cannot add \"Apple\" string to a \"Banana\" string and expect a Mango or something like that string in return. However,You can append them like \"Apple Mango\" i.e, at the end of one string, you can append the another string to exist.\n",
        "\n",
        "It's done by Python's + operator though.\n"
      ],
      "metadata": {
        "id": "z6cjgKEa-Qt7"
      }
    },
    {
      "cell_type": "code",
      "source": [
        "x = \"Your_name\"\n",
        "y = \"my_name\"\n",
        "z = \"her_name\"\n",
        "print(x + y + z)"
      ],
      "metadata": {
        "colab": {
          "base_uri": "https://localhost:8080/"
        },
        "id": "Tj94G7CO94dP",
        "outputId": "02df5e7b-20b6-4b44-b3ac-32b9674b78c7"
      },
      "execution_count": null,
      "outputs": [
        {
          "output_type": "stream",
          "name": "stdout",
          "text": [
            "Your_namemy_nameher_name\n"
          ]
        }
      ]
    },
    {
      "cell_type": "code",
      "source": [
        "# see it's appended right after the first string ends.\n",
        "# however, there is no space in between. It's obvious since, our variables have no spaces at its ends.\n",
        "# we can manually add it though, if you lie.\n",
        "\n",
        "# one way to add space:\n",
        "x = \"Your_name \" # add a blank space at the end of each string\n",
        "y = \"my_name \"\n",
        "z = \"her_name \"\n",
        "print(x + y + z)\n",
        "\n",
        "# another way\n",
        "x = \"Your_name\"\n",
        "y = \"my_name\"\n",
        "z = \"her_name\"\n",
        "print(x + \" \" + y + \" \" + z) # add a blank string between x and y in the print statement.\n",
        "# this also works. however, the earlier one is more effective and more elegant way to do it."
      ],
      "metadata": {
        "colab": {
          "base_uri": "https://localhost:8080/"
        },
        "id": "Nu29SUur_CUD",
        "outputId": "40564497-3c61-4a18-d8eb-06496af01f63"
      },
      "execution_count": null,
      "outputs": [
        {
          "output_type": "stream",
          "name": "stdout",
          "text": [
            "Your_name my_name her_name \n",
            "Your_name my_name her_name\n"
          ]
        }
      ]
    },
    {
      "cell_type": "markdown",
      "source": [
        "# Global Variables\n",
        "\n",
        "Variables that are created outside of a function (as in all of the examples above) are known as global variables.\n",
        "\n",
        "Global variables can be used by everyone, both inside of functions and outside.\n",
        "\n",
        "A global variable is supposed to be trigerred from anywhere in your python code.\n",
        "\n",
        "And, you can also create a local variable with the same name as a global variable. And it won't trigger any errors. This newly created local variable will only be operatable inside the function or class in which it is defined and not anywhere outside.\n",
        "\n"
      ],
      "metadata": {
        "id": "h8QpIEmtAA7X"
      }
    },
    {
      "cell_type": "code",
      "source": [
        "x = \"Your_name\"\n",
        "\n",
        "def myfunc():\n",
        "  print(x)\n",
        "  d = \"My_name\"\n",
        "  print(d)\n",
        "\n",
        "print(x)\n",
        "print(d)\n",
        "myfunc()\n",
        "\n",
        "# here you see, x is defined globally, so it can called from both outside and inside the function.\n",
        "# but here, d is a local variable defined inside the function, \"myfunc\".\n",
        "# so, calling d inside the function worked.\n",
        "# however, calling \"d\" outside the function throw a NameError saying that \"d\" is not defined.\n",
        "# it means to say, d is not anywhere in the global scope."
      ],
      "metadata": {
        "colab": {
          "base_uri": "https://localhost:8080/"
        },
        "id": "smsptjHT_iCe",
        "outputId": "4dde5737-98c8-4828-c10b-7a318cbf5972"
      },
      "execution_count": null,
      "outputs": [
        {
          "output_type": "stream",
          "name": "stdout",
          "text": [
            "Your_name\n",
            "1j\n",
            "Your_name\n",
            "My_name\n"
          ]
        }
      ]
    },
    {
      "cell_type": "markdown",
      "source": [
        "## you can still create a global variable within the local scope though.\n",
        "\n",
        "It is done through the global keyword, provided by Python. What it does is, when you a defining a variable, add it in the beginning and now the variale is also recognized in both the global and local scope.\n"
      ],
      "metadata": {
        "id": "7jUVA28-BnBO"
      }
    },
    {
      "cell_type": "code",
      "source": [
        "def myfunc():\n",
        "  global x\n",
        "  x = \"Your_name\"\n",
        "  print(x)\n",
        "\n",
        "myfunc()\n",
        "\n",
        "print(x)\n",
        "# see in both cases, the varible's value is being outputted."
      ],
      "metadata": {
        "colab": {
          "base_uri": "https://localhost:8080/"
        },
        "id": "FNJXRAGCAvfN",
        "outputId": "26d58166-14e0-495d-9e6e-98c71d8e3bac"
      },
      "execution_count": null,
      "outputs": [
        {
          "output_type": "stream",
          "name": "stdout",
          "text": [
            "Your_name\n",
            "Your_name\n"
          ]
        }
      ]
    },
    {
      "cell_type": "markdown",
      "source": [
        "You can also change the value of a global variable while staying within the local scope.\n"
      ],
      "metadata": {
        "id": "EdkJc4p_CQ8F"
      }
    },
    {
      "cell_type": "code",
      "source": [
        "x = \"Your_name\"\n",
        "\n",
        "def myfunc():\n",
        "  global x\n",
        "  x = \"My_name\"\n",
        "\n",
        "myfunc()\n",
        "\n",
        "print(x)\n",
        "\n",
        "# see our x is an globally defined variable.\n",
        "# we used global keyword inside the function which referenced to the global variable.\n",
        "# and we could change the name of global variable while still existing in the local scope.\n"
      ],
      "metadata": {
        "colab": {
          "base_uri": "https://localhost:8080/"
        },
        "id": "OIJIQtI-CGyN",
        "outputId": "40a4e8fa-788e-446c-f508-bcae5335e9ab"
      },
      "execution_count": null,
      "outputs": [
        {
          "output_type": "stream",
          "name": "stdout",
          "text": [
            "My_name\n"
          ]
        }
      ]
    },
    {
      "cell_type": "markdown",
      "source": [
        "**A short message for you.**\n",
        "\n",
        "Dear coder,\n",
        "\n",
        "It's okay, if you feel a little overwhelmed by now. Just keep going, practice coding exercises. Be enthusiastic and try to imagine what else could be done here. I'm sure, you will be able to deal with the early fears of code.\n",
        "\n",
        "Enjoy and continue learning. 😎"
      ],
      "metadata": {
        "id": "btB5wKjOCz80"
      }
    },
    {
      "cell_type": "markdown",
      "source": [
        "# Data Types in Python.\n",
        "\n",
        "In programming, data type is an important concept.\n",
        "\n",
        "Variables can store data of different types, and different types can do different things.\n",
        "\n",
        "Python has the following data types built-in by default, in these categories:\n",
        "\n",
        "*   Text Type:\t`str`\n",
        "*   Numeric Types:\t`int, float, complex`\n",
        "*   Sequence Types:\t`list, tuple, range`\n",
        "*   Mapping Type:\t`dict`\n",
        "*   Set Types:\t`set, frozenset`\n",
        "*   Boolean Type:\t`bool`\n",
        "*   Binary Types:\t`bytes, bytearray, memoryview`\n",
        "*   None Type:\t`NoneType`\n",
        "\n",
        "### As I mentioned earlier, You can check the datatype of a variable using the type() function.\n",
        "\n",
        "Here's a resource for you to check out to learn more about data types.\n",
        "\n",
        "Link: https://www.digitalocean.com/community/tutorials/python-data-types\n",
        "\n"
      ],
      "metadata": {
        "id": "Ed-XlmUSDYXE"
      }
    },
    {
      "cell_type": "code",
      "source": [
        "# here's the practical implementation of the various datatypes in python.\n",
        "\n",
        "a = \"Hello World\"\t# str\n",
        "b = 20\t# int\n",
        "c = 20.5\t# float\n",
        "d = 1j\t# complex\n",
        "e = [\"apple\", \"banana\", \"cherry\"]\t# list\n",
        "f = (\"apple\", \"banana\", \"cherry\")\t# tuple\n",
        "g = range(6)\t# range\n",
        "h = {\"name\" : \"John\", \"age\" : 36}\t# dict\n",
        "i = {\"apple\", \"banana\", \"cherry\"}\t# set\n",
        "j = frozenset({\"apple\", \"banana\", \"cherry\"})\t# frozenset\n",
        "k = True\t# bool\n",
        "l = b\"Hello\"\t# bytes\n",
        "m = bytearray(5)\t# bytearray\n",
        "n = memoryview(bytes(5))\t# memoryview\n",
        "o = None\t# NoneType\n",
        "\n",
        "# here, don't be scared by these underscores, these are only to format the output to make it look beautiful. It doesn't matter if you put it or not.\n",
        "\n",
        "print(a, \"-----------------------------------\", type(a), \"\\n\",\n",
        "      b, \"-------------------------------------------\", type(b), \"\\n\",\n",
        "      c, \"-----------------------------------------\", type(c),\"\\n\",\n",
        "      d, \"-------------------------------------------\", type(d), \"\\n\",\n",
        "      e, \"----------------\", type(e), \"\\n\",\n",
        "      f, \"----------------\", type(f), \"\\n\",\n",
        "      g, \"----------------------------------\", type(g), \"\\n\",\n",
        "      h, \"------------------\", type(h), \"\\n\",\n",
        "      i, \"----------------\", type(i), \"\\n\",\n",
        "      j, \"-----\", type(j), \"\\n\",\n",
        "      k, \"-----------------------------------------\", type(k), \"\\n\",\n",
        "      l, \"-------------------------------------\", type(l), \"\\n\",\n",
        "      m, \"-----------\", type(m), \"\\n\",\n",
        "      n, \"-------------------\", type(n), \"\\n\",\n",
        "      o, \"-----------------------------------------\", type(o), \"\\n\")\n"
      ],
      "metadata": {
        "colab": {
          "base_uri": "https://localhost:8080/"
        },
        "id": "OOQkAPOeChun",
        "outputId": "2ca8c61d-56cd-4ceb-8be5-33310e9566d1"
      },
      "execution_count": null,
      "outputs": [
        {
          "output_type": "stream",
          "name": "stdout",
          "text": [
            "Hello World ----------------------------------- <class 'str'> \n",
            " 20 ------------------------------------------- <class 'int'> \n",
            " 20.5 ----------------------------------------- <class 'float'> \n",
            " 1j ------------------------------------------- <class 'complex'> \n",
            " ['apple', 'banana', 'cherry'] ---------------- <class 'list'> \n",
            " ('apple', 'banana', 'cherry') ---------------- <class 'tuple'> \n",
            " range(0, 6) ---------------------------------- <class 'range'> \n",
            " {'name': 'John', 'age': 36} ------------------ <class 'dict'> \n",
            " {'banana', 'cherry', 'apple'} ---------------- <class 'set'> \n",
            " frozenset({'banana', 'cherry', 'apple'}) ----- <class 'frozenset'> \n",
            " True ----------------------------------------- <class 'bool'> \n",
            " b'Hello' ------------------------------------- <class 'bytes'> \n",
            " bytearray(b'\\x00\\x00\\x00\\x00\\x00') ----------- <class 'bytearray'> \n",
            " <memory at 0x7d7be272cc40> ------------------- <class 'memoryview'> \n",
            " None ----------------------------------------- <class 'NoneType'> \n",
            "\n"
          ]
        }
      ]
    },
    {
      "cell_type": "markdown",
      "source": [
        "As we discussed earlier, we can also specifically typecast the data type of a variable."
      ],
      "metadata": {
        "id": "AtT2cqVfJb1P"
      }
    },
    {
      "cell_type": "code",
      "source": [
        "# here's the practical implementation of the explictly specifying various datatypes for a variable.\n",
        "\n",
        "\n",
        "a = str(\"Hello World\")\t# str\n",
        "b = int(20)\t# int\n",
        "c = float(20.5)\t# float\n",
        "d = complex(1j)\t# complex\n",
        "e = list((\"apple\", \"banana\", \"cherry\"))\t# list\n",
        "f = tuple((\"apple\", \"banana\", \"cherry\"))\t# tuple\n",
        "g = range(6)\t# range\n",
        "h = dict(name=\"John\", age=36)\t# dict\n",
        "i = set((\"apple\", \"banana\", \"cherry\"))\t# set\n",
        "j = frozenset((\"apple\", \"banana\", \"cherry\"))\t# frozenset\n",
        "k = bool(5)\t# bool\n",
        "l = bytes(5)\t# bytes\n",
        "m = bytearray(5)\t# bytearray\n",
        "n = memoryview(bytes(5))\t# memoryview\n",
        "\n",
        "# see nothing changes even after typecasting. we just explicitly typecasted so that, the datatypes of each variable be predefined.\n",
        "print(a, \"\\n\", b, \"\\n\", c,  \"\\n\", d,  \"\\n\", e,  \"\\n\", f,  \"\\n\", g,  \"\\n\", h,  \"\\n\", i,  \"\\n\", j,  \"\\n\", k,  \"\\n\", l,  \"\\n\", m,  \"\\n\", n)"
      ],
      "metadata": {
        "colab": {
          "base_uri": "https://localhost:8080/"
        },
        "id": "0QNtxImDFMaU",
        "outputId": "ff47330f-ed84-4e43-f4ca-c8e5e7710abf"
      },
      "execution_count": null,
      "outputs": [
        {
          "output_type": "stream",
          "name": "stdout",
          "text": [
            "Hello World \n",
            " 20 \n",
            " 20.5 \n",
            " 1j \n",
            " ['apple', 'banana', 'cherry'] \n",
            " ('apple', 'banana', 'cherry') \n",
            " range(0, 6) \n",
            " {'name': 'John', 'age': 36} \n",
            " {'banana', 'cherry', 'apple'} \n",
            " frozenset({'banana', 'cherry', 'apple'}) \n",
            " True \n",
            " b'\\x00\\x00\\x00\\x00\\x00' \n",
            " bytearray(b'\\x00\\x00\\x00\\x00\\x00') \n",
            " <memory at 0x7d7be2907c40>\n"
          ]
        }
      ]
    },
    {
      "cell_type": "markdown",
      "source": [
        "### Numbers in Python:\n",
        "*   int\n",
        "*   float\n",
        "*   complex\n",
        "\n",
        "The variables in python are associated to a specific numeric type when you assign it to a value."
      ],
      "metadata": {
        "id": "yva9UkxBhoYw"
      }
    },
    {
      "cell_type": "code",
      "source": [
        "# Here's an example for this one:\n",
        "\n",
        "x = 1    # int\n",
        "y = 1.2  # float\n",
        "z = 1j   # complex\n",
        "\n",
        "print(type(x)) # output: <class 'int'>\n",
        "print(type(y)) # output: <class 'float'>\n",
        "print(type(z)) # output: <class 'complex'>"
      ],
      "metadata": {
        "colab": {
          "base_uri": "https://localhost:8080/"
        },
        "id": "Z2RONQxXDp_q",
        "outputId": "9615aa2d-e055-4314-c605-f2a8246fda94"
      },
      "execution_count": null,
      "outputs": [
        {
          "output_type": "stream",
          "name": "stdout",
          "text": [
            "<class 'int'>\n",
            "<class 'float'>\n",
            "<class 'complex'>\n"
          ]
        }
      ]
    },
    {
      "cell_type": "markdown",
      "source": [
        "**Have a look at the documentation to understand regarding the numbers in python from w3schools.**\n",
        "\n",
        "link: https://www.w3schools.com/python/python_numbers.asp"
      ],
      "metadata": {
        "id": "90i74Xuvikn_"
      }
    },
    {
      "cell_type": "markdown",
      "source": [
        "### Type Conversion\n",
        "simply means converting the type of one variable to another. Take for instance, converting int to float, float to int or complex and so on.\n",
        "\n"
      ],
      "metadata": {
        "id": "OYWdwWPki4Bo"
      }
    },
    {
      "cell_type": "code",
      "source": [
        "# here's a demonstration of type conversion:\n",
        "\n",
        "x = 1    # int\n",
        "y = 2.8  # float\n",
        "z = 1j   # complex\n",
        "t = 2.99 # float\n",
        "\n",
        "#convert from int to float:\n",
        "a = float(x)\n",
        "\n",
        "#convert from float to int:\n",
        "b = int(y)\n",
        "g = int(t)\n",
        "\n",
        "#convert from int to complex:\n",
        "c = complex(x)\n",
        "\n",
        "print(a)\n",
        "print(b)\n",
        "print(g)\n",
        "print(c)\n",
        "\n",
        "print(type(a))\n",
        "print(type(b))\n",
        "print(type(g))\n",
        "print(type(c))"
      ],
      "metadata": {
        "colab": {
          "base_uri": "https://localhost:8080/"
        },
        "id": "UYh8xVqJiIDq",
        "outputId": "228e6897-970a-4f67-ef0d-a618536e1c7f"
      },
      "execution_count": null,
      "outputs": [
        {
          "output_type": "stream",
          "name": "stdout",
          "text": [
            "1.0\n",
            "2\n",
            "2\n",
            "(1+0j)\n",
            "<class 'float'>\n",
            "<class 'int'>\n",
            "<class 'int'>\n",
            "<class 'complex'>\n"
          ]
        }
      ]
    },
    {
      "cell_type": "markdown",
      "source": [
        "### Here's some things to consider here:\n",
        "\n",
        "1. Here in this type conversion, it is clearly seen that, when 1; of type int is converted to floating point, it becomes 1.0.\n",
        "\n",
        "2. Also, when 2.8 which of type floating point, when converted to integer, it goes from 2.8 to 2. It doesn't matter whether it's 2.3, 2.8 or 2.99. It will still become 2 when done type-conversion.\n",
        "\n",
        "3. Datatypes like int and float can be converted into complex as we saw with the variable \"c\" here. However, complex numbers cannot be converted into other datatypes.\n",
        "\n"
      ],
      "metadata": {
        "id": "TC-vIekojd_8"
      }
    },
    {
      "cell_type": "markdown",
      "source": [
        "# Random Numbers\n",
        "\n",
        "😎 Okay, here's a fun fact, there are two kinds of Random numbers:\n",
        "1. True Random Numbers: Actually random, not calculated by some algorithm, but a number with high entropy. (**High Entropy = High Randomness**)\n",
        "\n",
        "2. Pseudo Random Numbers: These are not actually true random because there is a huge random sequence of numbers fed to an algorithm by a human personnel. The algorithm than generates a random by performing the set of specified rules. So, even though it's considered random, it's not truly random and thus called pseudo-random.\n",
        "\n",
        "## Random Numbers in Python:\n",
        "\n",
        "So, actually, python doesn't have a random() function to make a random number, it actually has a built-in module called random. This module generates a random number everytime it is run."
      ],
      "metadata": {
        "id": "ixV9BstxlWa9"
      }
    },
    {
      "cell_type": "code",
      "source": [
        "# to import a library in python, we use the import statement.\n",
        "\n",
        "import random # this code imports a module called \"random\" that comes built-in with the python programming package.\n",
        "\n",
        "a = random.randrange(1, 11, 3 )# Choose a random item from range(start, stop[, step]).\n",
        "print(a)\n",
        "\n",
        "list = ['a', 'b', 'c', 'd']\n",
        "b = random.choice(list) # Choose a random element from a non-empty sequence.\n",
        "print(b)\n",
        "\n",
        "c = random.betavariate(1.0, 1.0) # Beta distribution.\n",
        "\n",
        "# Conditions on the parameters are alpha > 0 and beta > 0.\n",
        "# Returned values range between 0 and 1.\n",
        "\n",
        "print(c)\n",
        "\n",
        "\n",
        "# Here's some example implementation of the various methods within the random module in python.\n",
        "\n",
        "print(random.random())  # generates a random float number between 0.0 and 1.0.\n",
        "\n",
        "print(random.uniform(1.0, 10.0))  # Generates a random float number between a and b.\n",
        "\n",
        "print(random.randint(1, 10))  # Generates a random integer between a and b (inclusive).\n",
        "\n",
        "print(random.randrange(1, 10, 2))  # Generates a random integer from the range start to stop - 1 with an optional step.\n",
        "\n",
        "print(random.choice(['apple', 'banana', 'cherry']))  # Selects a random element from a non-empty sequence.\n",
        "\n",
        "print(random.choices(['apple', 'banana', 'cherry'], weights=[2, 3, 1], k=2))  # Returns a list of k elements chosen from the population with optional weights.\n",
        "\n",
        "print(random.sample(range(1, 11), 3))  # Returns a list of k unique elements chosen from the population.\n",
        "\n",
        "numbers = [1, 2, 3, 4, 5]\n",
        "random.shuffle(numbers) # Shuffles the sequence x in place.\n",
        "print(numbers)  # Example: [4, 1, 3, 5, 2]\n",
        "\n",
        "random.seed(10) # Initializes the random number generator with a seed value.\n",
        "print(random.random())  # Example: 0.5714025946899135\n",
        "\n",
        "print(random.getrandbits(5))  # Generates a random integer with k random bits. For Example: 19 (binary: 10011)\n",
        "\n",
        "print(random.betavariate(1.0, 1.0))  # Generates a random float number from the Beta distribution. For Example: 0.7683443133857885\n",
        "\n",
        "print(random.expovariate(1.5))  # Generates a random float number from the Exponential distribution. For Example: 0.47478632229084667\n",
        "\n",
        "print(random.gammavariate(2.0, 2.0))  # Generates a random float number from the Gamma distribution. For Example: 3.2329488276807903\n",
        "\n",
        "print(random.gauss(0, 1))  #Generates a random float number from the Gaussian (Normal) distribution. For Example: -0.27300907804881097\n",
        "\n",
        "print(random.lognormvariate(0, 1))  # Generates a random float number from the Log-Normal distribution. For Example: 0.7877284593196768\n",
        "\n",
        "print(random.normalvariate(0, 1))  # Generates a random float number from the Normal distribution. For Example: 1.2341813422617056\n",
        "\n",
        "print(random.vonmisesvariate(0, 4))  # Generates a random float number from the Von Mises distribution. For Example: 0.9819016092563971\n",
        "\n",
        "print(random.paretovariate(1))  # Generates a random float number from the Pareto distribution. For Example: 2.576782742269336\n",
        "\n",
        "print(random.weibullvariate(1, 1.5))  # Generates a random float number from the Weibull distribution. For Example: 0.6993386333661752"
      ],
      "metadata": {
        "colab": {
          "base_uri": "https://localhost:8080/"
        },
        "id": "9SeCy_MejXuP",
        "outputId": "e2e9f56f-df45-4730-8f62-0469aabd8e52"
      },
      "execution_count": null,
      "outputs": [
        {
          "output_type": "stream",
          "name": "stdout",
          "text": [
            "4\n",
            "a\n",
            "0.011338801954707576\n",
            "0.1657115622257842\n",
            "3.1762268593969227\n",
            "5\n",
            "9\n",
            "apple\n",
            "['cherry', 'apple']\n",
            "[6, 10, 9]\n",
            "[1, 5, 3, 4, 2]\n",
            "0.5714025946899135\n",
            "13\n",
            "0.9778222639841229\n",
            "0.4139842084648986\n",
            "3.9203944868534286\n",
            "0.09836536714400898\n",
            "0.9817592104761427\n",
            "-0.41094664179890317\n",
            "6.172829291642727\n",
            "5.7752802253641375\n",
            "0.4523596691322057\n"
          ]
        }
      ]
    },
    {
      "cell_type": "code",
      "source": [],
      "metadata": {
        "id": "NCXKlx6LnMmw"
      },
      "execution_count": null,
      "outputs": []
    }
  ]
}