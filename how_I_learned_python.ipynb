{
  "nbformat": 4,
  "nbformat_minor": 0,
  "metadata": {
    "colab": {
      "provenance": [],
      "toc_visible": true,
      "authorship_tag": "ABX9TyPRH1fsbUxa4WJoM4ggWTQE",
      "include_colab_link": true
    },
    "kernelspec": {
      "name": "python3",
      "display_name": "Python 3"
    },
    "language_info": {
      "name": "python"
    }
  },
  "cells": [
    {
      "cell_type": "markdown",
      "metadata": {
        "id": "view-in-github",
        "colab_type": "text"
      },
      "source": [
        "<a href=\"https://colab.research.google.com/github/abhiverse01/how-I-learned-python/blob/main/how_I_learned_python.ipynb\" target=\"_parent\"><img src=\"https://colab.research.google.com/assets/colab-badge.svg\" alt=\"Open In Colab\"/></a>"
      ]
    },
    {
      "cell_type": "markdown",
      "source": [
        "# **how-I-learned-python**\n"
      ],
      "metadata": {
        "id": "2kOqV47Ls6CA"
      }
    },
    {
      "cell_type": "markdown",
      "source": [
        "-----------------------------------------\n",
        "Owned by: **Abhishek Shah**\n",
        "\n",
        "Mail me at: **www.abhishekshah007@gmail.com**\n",
        "\n",
        "Github Repository Link: https://github.com/abhiverse01/how-I-learned-python/blob/main/how_I_learned_python.ipynb\n",
        "\n",
        "-----------------------------------------"
      ],
      "metadata": {
        "id": "fXjIT9VHLKqC"
      }
    },
    {
      "cell_type": "markdown",
      "source": [
        "This colab notebook is a collection of all the code snippets and resources that I used while learning python. It works for me almost as a refresher course now.\n",
        "\n",
        "I'm slowly updating this notebook. It may not feel complete yet. But, I promise to continue updating it.\n",
        "\n",
        "Follow this notebook, if you're stuck while trying to learning python sequentially. This one can be a good resource for you.\n",
        "\n",
        "**Hope you enjoy and learn!!!**"
      ],
      "metadata": {
        "id": "3pbWPzcdxY21"
      }
    },
    {
      "cell_type": "markdown",
      "source": [
        "### Step 1: Choose a Code Editor. Here's some options:\n",
        "*   **PyCharm:** Specialized Python editor.\n",
        "*   **VSCode:** Good for almost all programming languages.\n",
        "*   **Colab:** Colab notebook is mostly online and can also be used within VSCode.\n",
        "\n",
        "Here's some resources for setting up your python environment:\n",
        "\n",
        "*   **VSCode Setup:** https://www.youtube.com/watch?v=RUGm1Lwc55s&pp=ygUhc2V0dGluZyB1cCB0aGUgcHl0aG9uIGVudmlyb25tZW50\n",
        "*   **Pycharm Setup:** https://www.youtube.com/watch?v=TfZzPjMJDeY&pp=ygUUcHljaGFybSBpbnN0YWxsYXRpb24%3D\n",
        "*   **Colab Notebook:** It requires no setup. It comes with ready-to-go for starting to code in python.\n",
        "\n",
        "### Step 2: Install Python in your Environment.\n",
        "\n",
        "*   **pip install python:** For Pycharm and VSCode ones. Just put `pip instal python` in the terminal and it will install the latest version of python programming language in your system.\n",
        "\n",
        "*   **!pip install python:** For colab. ! Exclamation sign is used for running bash scripts in the Colab cell.\n",
        "\n",
        "### Step 3: We're Ready to Start Coding. Yay 👏👏👏\n",
        "### Miscellaneous:\n",
        "\n",
        "*   **.ipynb:** It is the file-extension of a colab notebook. It stands for, **\"Interactive Python Notebook\"**.\n",
        "*   **.py:** It is the file extension for a Python file. As obvious it is, it stands for **\"Python\"**.\n",
        "*   **pip**: It is the standard package manager for Python. It allows you to install and manage packages that aren't part of the Python standard library. It stands for, **\"Python Program Installer\"**.\n",
        "\n"
      ],
      "metadata": {
        "id": "He0Z9lqhNBfA"
      }
    },
    {
      "cell_type": "code",
      "execution_count": null,
      "metadata": {
        "colab": {
          "base_uri": "https://localhost:8080/"
        },
        "id": "ZgG6BuPTxTEP",
        "outputId": "ef8236be-1a84-4c11-d3ff-d524834113b2"
      },
      "outputs": [
        {
          "output_type": "stream",
          "name": "stdout",
          "text": [
            "Hello, World\n"
          ]
        }
      ],
      "source": [
        "# the first program\n",
        "\n",
        "print('Hello, World')"
      ]
    },
    {
      "cell_type": "code",
      "source": [
        "# check python version\n",
        "# ! exclamation sign is needed to run shell commands in colab notebook.\n",
        "# If you're using other terminals such as PyCharm or VSCode. you don't need to use exclamaiton sign.\n",
        "# you can directly use it in your PyCharm of VSCode terminal.\n",
        "\n",
        "!python --version"
      ],
      "metadata": {
        "colab": {
          "base_uri": "https://localhost:8080/"
        },
        "id": "TG8rXWVXx951",
        "outputId": "764c6255-cf15-4c30-bfa6-2569bf13a80b"
      },
      "execution_count": null,
      "outputs": [
        {
          "output_type": "stream",
          "name": "stdout",
          "text": [
            "Python 3.10.12\n"
          ]
        }
      ]
    },
    {
      "cell_type": "markdown",
      "source": [
        "We will go slow and learn each line of code, each syntax representation, and the meaning of each symbol. So, sit tight and relax. Hope it serves you well."
      ],
      "metadata": {
        "id": "R91_EmN2y3WK"
      }
    },
    {
      "cell_type": "markdown",
      "source": [
        "**The symbol \"#\" is used before you want to write a comment**. It's so that, Once, the compiler sees the # sign at the beginning of a line. It knows, it's just a comment and need not be interpreted during program execution."
      ],
      "metadata": {
        "id": "7CAsvMXLzDTt"
      }
    },
    {
      "cell_type": "code",
      "source": [
        "# This is a comment\n",
        "print('Hello, World') # Comment can also be written here.\n",
        "# Here as well, It won't affect the program execution at all.\n"
      ],
      "metadata": {
        "colab": {
          "base_uri": "https://localhost:8080/"
        },
        "id": "84mP1miKypfI",
        "outputId": "9dfa8074-e1e6-44d6-a45a-92d1f67627f1"
      },
      "execution_count": null,
      "outputs": [
        {
          "output_type": "stream",
          "name": "stdout",
          "text": [
            "Hello, World\n"
          ]
        }
      ]
    },
    {
      "cell_type": "markdown",
      "source": [
        "# Mutli-Line comments/Multi-line Strings\n",
        "Comments are simple one-liners for the coders to go back and understand what they made. But sometimes you may need comments that could be more than a one-liner. That is when you need to use Multi-line commenting. It starts with \"\"\" and it has to be ended as well with the same \"\"\"."
      ],
      "metadata": {
        "id": "4Wn1wzm4z25X"
      }
    },
    {
      "cell_type": "code",
      "source": [
        "\"\"\"\n",
        "This is a form of multi-line comments.\n",
        "It can be in more than one line.\n",
        "It has to stat and end both with a triple quotation.\n",
        "\"\"\""
      ],
      "metadata": {
        "colab": {
          "base_uri": "https://localhost:8080/",
          "height": 53
        },
        "id": "L1lOOYP_ztAL",
        "outputId": "b280413e-a159-414d-e53d-1ee04f7ddfad"
      },
      "execution_count": null,
      "outputs": [
        {
          "output_type": "execute_result",
          "data": {
            "text/plain": [
              "'\\nThis is a form of multi-line comments.\\nIt can be in more than one line.\\nIt has to stat and end both with a triple quotation.\\n'"
            ],
            "application/vnd.google.colaboratory.intrinsic+json": {
              "type": "string"
            }
          },
          "metadata": {},
          "execution_count": 83
        }
      ]
    },
    {
      "cell_type": "code",
      "source": [
        "# \\n represents new-line"
      ],
      "metadata": {
        "id": "x_vbL-qn0uB0"
      },
      "execution_count": null,
      "outputs": []
    },
    {
      "cell_type": "markdown",
      "source": [
        "Let's create a variable. It's a container to store a value. And by the name suggests, a variable is place-holder whose value can be varied."
      ],
      "metadata": {
        "id": "Tcc6GlL604Lj"
      }
    },
    {
      "cell_type": "code",
      "source": [
        "x = 5 # a varible with value 5 and is of type integer, int.\n",
        "y = \"John\" # a variable with value \"John\" and is of type string, str.\n",
        "print(x)\n",
        "print(y)"
      ],
      "metadata": {
        "colab": {
          "base_uri": "https://localhost:8080/"
        },
        "id": "w9sAOKhN00y7",
        "outputId": "1d9e8a11-69b7-4c7b-a2b8-c209e36b3196"
      },
      "execution_count": null,
      "outputs": [
        {
          "output_type": "stream",
          "name": "stdout",
          "text": [
            "5\n",
            "John\n"
          ]
        }
      ]
    },
    {
      "cell_type": "markdown",
      "source": [
        "To understand the concept of datatypes such as: Integer, Float, Strings in python, have a look at the official python documentation on RealPython. Their documentation is rich and well-explanatory.\n",
        "\n",
        "Here's the links to Python Variables: https://realpython.com/python-variables/\n"
      ],
      "metadata": {
        "id": "RxN8vK4X1Zf7"
      }
    },
    {
      "cell_type": "markdown",
      "source": [
        "# TypeCasting.\n",
        "\n",
        "Sometimes the kind of datatype that a variable is about to store, can be explicitly identified. It's okay to not do it explicitly, as python does detect the kind of data stored in a variable automatically. However, to ensure clarity in some cases, typecasting is an efficient and neat approach."
      ],
      "metadata": {
        "id": "guR_vhOA2Pxw"
      }
    },
    {
      "cell_type": "code",
      "source": [
        "# Here, a is not actually a number 3 but a string '3'.\n",
        "# So, you won't be able to add it to another string until you re-typecast it to become integer again.\n",
        "# You can append it though to another similar string. We will be seeing it later on.\n",
        "a = str(3)\n",
        "b = int(3)\n",
        "c = float(3)\n",
        "\n",
        "print(a)  # a is a string\n",
        "print(b) # b is an integer\n",
        "print(c) # c is an floating-point, 3.0 is a floating point number.\n"
      ],
      "metadata": {
        "colab": {
          "base_uri": "https://localhost:8080/"
        },
        "id": "Kn7ki1kH1QSh",
        "outputId": "3f7ee163-0bb4-43de-9c98-67262c7e1334"
      },
      "execution_count": null,
      "outputs": [
        {
          "output_type": "stream",
          "name": "stdout",
          "text": [
            "3\n",
            "3\n",
            "3.0\n"
          ]
        }
      ]
    },
    {
      "cell_type": "code",
      "source": [
        "# you can also check the type of any variable\n",
        "\n",
        "a = 5\n",
        "b = \"your_name\"\n",
        "\n",
        "print(type(a)) # type(object) > give the datatype of the object.\n",
        "# for this case, it would be <class 'int'>"
      ],
      "metadata": {
        "colab": {
          "base_uri": "https://localhost:8080/"
        },
        "id": "NPmDdfqp2umg",
        "outputId": "a83996b9-cbfb-4269-e3cb-dca77412ba23"
      },
      "execution_count": null,
      "outputs": [
        {
          "output_type": "stream",
          "name": "stdout",
          "text": [
            "<class 'int'>\n"
          ]
        }
      ]
    },
    {
      "cell_type": "markdown",
      "source": [
        "# Python is Case-Sensitive.\n",
        "This means that \"a\" and \"A\" are two different characters for it."
      ],
      "metadata": {
        "id": "-yco9kCz4Cp0"
      }
    },
    {
      "cell_type": "code",
      "source": [
        "# case-sensitive test\n",
        "\n",
        "a = 4\n",
        "A = \"Your_name\"\n",
        "\n",
        "print(a, A)\n",
        "# See instead of printing same values, it does print different values."
      ],
      "metadata": {
        "colab": {
          "base_uri": "https://localhost:8080/"
        },
        "id": "NXDvFn6z35RR",
        "outputId": "7105f426-bf72-4e63-95dc-2f18b7c2f3d4"
      },
      "execution_count": null,
      "outputs": [
        {
          "output_type": "stream",
          "name": "stdout",
          "text": [
            "4 Your_name\n"
          ]
        }
      ]
    },
    {
      "cell_type": "markdown",
      "source": [
        "Oh, yes, you can print as many variable you want by keepint them inside the same print() function. Just keep adding commas, and adding variable."
      ],
      "metadata": {
        "id": "RnLJx0iK4d7D"
      }
    },
    {
      "cell_type": "markdown",
      "source": [
        "# Variable Naming Rules\n",
        "\n",
        "A variable can have a short name (like x and y) or a more descriptive name (age, carname, total_volume).\n",
        "\n",
        "While coding, you will be naming your variables, and there is a standard procedure for that, you just shouldn't randomly name your variables. Follow a simple set of rules for it.\n",
        "\n",
        "Here you go!!!\n",
        "\n",
        "*   A variable name must start with a letter or the underscore character.\n",
        "*   A variable name cannot start with a number.\n",
        "*   A variable name can only contain alpha-numeric characters and underscore. (A-z, 0-9, and _ )\n",
        "*   Variable names are case-sensitive (age, Age and AGE are three different. variables)\n",
        "*   A variable name cannot be any of the Python keywords.\n",
        "\n",
        "## Python Keywords\n",
        "Python keywords are the predefined words that are defined by the makers of the python programming language. Take one example, def. it's a python keyword that is used while creating a function.\n",
        "\n",
        "You should check out the documentation of python keywords for learning about it in detail. Here's a good source for it.\n",
        "\n",
        "Link: https://blog.hubspot.com/website/python-keywords#:~:text=A%20Python%20keyword%20is%20a,the%20syntax%20of%20the%20code."
      ],
      "metadata": {
        "id": "grvn-T0V4s55"
      }
    },
    {
      "cell_type": "code",
      "source": [
        "# good variables and bad variables\n",
        "# good ones.\n",
        "myvariable = \"Your_name\"\n",
        "my_var = \"Your_name\"\n",
        "# bad ones\n",
        "2myvar = \"Your_name\"\n",
        "my-var = \"Your_name\"\n",
        "\n",
        "# see the first two variable worked and then next two variables throw an errror."
      ],
      "metadata": {
        "colab": {
          "base_uri": "https://localhost:8080/",
          "height": 106
        },
        "id": "vOsXEvVd4R3E",
        "outputId": "0b750a8e-f94b-46e0-b795-b0593b12090c"
      },
      "execution_count": null,
      "outputs": [
        {
          "output_type": "error",
          "ename": "SyntaxError",
          "evalue": "invalid decimal literal (<ipython-input-90-c7cc5d216c08>, line 6)",
          "traceback": [
            "\u001b[0;36m  File \u001b[0;32m\"<ipython-input-90-c7cc5d216c08>\"\u001b[0;36m, line \u001b[0;32m6\u001b[0m\n\u001b[0;31m    2myvar = \"Your_name\"\u001b[0m\n\u001b[0m    ^\u001b[0m\n\u001b[0;31mSyntaxError\u001b[0m\u001b[0;31m:\u001b[0m invalid decimal literal\n"
          ]
        }
      ]
    },
    {
      "cell_type": "markdown",
      "source": [
        "## MultiWord Variable.\n",
        "Now, you sometimes may need to create a multi-word variable. There are several conventions that can make you look professional while choosing a variable.\n",
        "\n",
        "Some famous ones are:\n",
        "\n",
        "**Camel Case:** Each word, except the first, starts with a capital letter.\n",
        "\n",
        "**Pascal Case:** Each word starts with a capital letter.\n",
        "\n",
        "**Snake Case:** Each word is separated by an underscore character."
      ],
      "metadata": {
        "id": "74K2Wln76_P1"
      }
    },
    {
      "cell_type": "code",
      "source": [
        "# camel case convention\n",
        "myVariableName = \"Your_name\"\n",
        "\n",
        "# pascal case convention\n",
        "MyVariableName = \"Your_name\"\n",
        "\n",
        "# snake case convention\n",
        "my_variable_name = \"Your_name\""
      ],
      "metadata": {
        "id": "crwLRM3X6yVj"
      },
      "execution_count": null,
      "outputs": []
    },
    {
      "cell_type": "markdown",
      "source": [
        "## Multi-Value Assignment\n",
        "Same as printing multiple variables within the same print() function, we can also values to multiple variable in one line, in Python."
      ],
      "metadata": {
        "id": "Xm93GT3C7_pK"
      }
    },
    {
      "cell_type": "code",
      "source": [
        "x, y, z = \"Your_name\", \"My_name\", \"Her_name\"\n",
        "print(x)\n",
        "print(y)\n",
        "print(z)"
      ],
      "metadata": {
        "colab": {
          "base_uri": "https://localhost:8080/"
        },
        "id": "SuA7gjVn773l",
        "outputId": "90800084-8ba0-4a31-bca7-a6d39f622f7f"
      },
      "execution_count": null,
      "outputs": [
        {
          "output_type": "stream",
          "name": "stdout",
          "text": [
            "Your_name\n",
            "My_name\n",
            "Her_name\n"
          ]
        }
      ]
    },
    {
      "cell_type": "markdown",
      "source": [
        "You can assign the same value to multiple variables, within the same line."
      ],
      "metadata": {
        "id": "l0WsdO488Zfy"
      }
    },
    {
      "cell_type": "code",
      "source": [
        "x = y = z = \"Your_name\"\n",
        "print(x)\n",
        "print(y)\n",
        "print(z)"
      ],
      "metadata": {
        "colab": {
          "base_uri": "https://localhost:8080/"
        },
        "id": "usxK4rNQ8Wrj",
        "outputId": "bf665eb2-6f30-4591-8352-877271d24fb4"
      },
      "execution_count": null,
      "outputs": [
        {
          "output_type": "stream",
          "name": "stdout",
          "text": [
            "Your_name\n",
            "Your_name\n",
            "Your_name\n"
          ]
        }
      ]
    },
    {
      "cell_type": "markdown",
      "source": [
        "## Unpacking into Variables.\n",
        "Now, let's imagine you have a list of three values. To assign each element in that list to a variable either you need to go over all the items one by one or, there's an approach called unpacking the list.\n",
        "\n",
        "Here's the approach. You create a list with; suppose 5 elements. Now, you need to use all those five variable in one one line and give the list to it. One be one, each variable shall get the corresponding item from that list."
      ],
      "metadata": {
        "id": "MSwYuWCs8uxc"
      }
    },
    {
      "cell_type": "code",
      "source": [
        "fruits = [\"Your_name\", \"My_name\", \"Her_name\", \"Your_Ex\", \"Her_Next\"]\n",
        "a, b, x, y, z = fruits\n",
        "\n",
        "print(a)\n",
        "print(b)\n",
        "print(x)\n",
        "print(y)\n",
        "print(z)\n",
        "\n",
        "print(a, b, x, y, z)"
      ],
      "metadata": {
        "colab": {
          "base_uri": "https://localhost:8080/"
        },
        "id": "xpIeGR8f8sAs",
        "outputId": "7081cd8c-5788-4022-9b5e-16f3ae1d001a"
      },
      "execution_count": null,
      "outputs": [
        {
          "output_type": "stream",
          "name": "stdout",
          "text": [
            "Your_name\n",
            "My_name\n",
            "Her_name\n",
            "Your_Ex\n",
            "Her_Next\n",
            "Your_name My_name Her_name Your_Ex Her_Next\n"
          ]
        }
      ]
    },
    {
      "cell_type": "code",
      "source": [
        "# the number of variables must be the same as the number of elements in the list.\n",
        "# If not, you will get the too many values to unpack error.\n",
        "\n",
        "\n",
        "fruits = [\"Your_name\", \"My_name\", \"Her_name\", \"Your_Ex\", \"Her_Next\"]\n",
        "a, b, x, y = fruits\n",
        "\n",
        "print(a)\n",
        "print(b)\n",
        "print(x)\n",
        "print(y)\n",
        "# print(z)\n",
        "\n",
        "# print(a, b, x, y, z)"
      ],
      "metadata": {
        "colab": {
          "base_uri": "https://localhost:8080/",
          "height": 211
        },
        "id": "4w787S_r9tMk",
        "outputId": "b1a751fa-9ac8-430a-efb5-ad0dfc5843ca"
      },
      "execution_count": null,
      "outputs": [
        {
          "output_type": "error",
          "ename": "ValueError",
          "evalue": "too many values to unpack (expected 4)",
          "traceback": [
            "\u001b[0;31m---------------------------------------------------------------------------\u001b[0m",
            "\u001b[0;31mValueError\u001b[0m                                Traceback (most recent call last)",
            "\u001b[0;32m<ipython-input-95-55e0dfbe579e>\u001b[0m in \u001b[0;36m<cell line: 6>\u001b[0;34m()\u001b[0m\n\u001b[1;32m      4\u001b[0m \u001b[0;34m\u001b[0m\u001b[0m\n\u001b[1;32m      5\u001b[0m \u001b[0mfruits\u001b[0m \u001b[0;34m=\u001b[0m \u001b[0;34m[\u001b[0m\u001b[0;34m\"Your_name\"\u001b[0m\u001b[0;34m,\u001b[0m \u001b[0;34m\"My_name\"\u001b[0m\u001b[0;34m,\u001b[0m \u001b[0;34m\"Her_name\"\u001b[0m\u001b[0;34m,\u001b[0m \u001b[0;34m\"Your_Ex\"\u001b[0m\u001b[0;34m,\u001b[0m \u001b[0;34m\"Her_Next\"\u001b[0m\u001b[0;34m]\u001b[0m\u001b[0;34m\u001b[0m\u001b[0;34m\u001b[0m\u001b[0m\n\u001b[0;32m----> 6\u001b[0;31m \u001b[0ma\u001b[0m\u001b[0;34m,\u001b[0m \u001b[0mb\u001b[0m\u001b[0;34m,\u001b[0m \u001b[0mx\u001b[0m\u001b[0;34m,\u001b[0m \u001b[0my\u001b[0m \u001b[0;34m=\u001b[0m \u001b[0mfruits\u001b[0m\u001b[0;34m\u001b[0m\u001b[0;34m\u001b[0m\u001b[0m\n\u001b[0m\u001b[1;32m      7\u001b[0m \u001b[0;34m\u001b[0m\u001b[0m\n\u001b[1;32m      8\u001b[0m \u001b[0mprint\u001b[0m\u001b[0;34m(\u001b[0m\u001b[0ma\u001b[0m\u001b[0;34m)\u001b[0m\u001b[0;34m\u001b[0m\u001b[0;34m\u001b[0m\u001b[0m\n",
            "\u001b[0;31mValueError\u001b[0m: too many values to unpack (expected 4)"
          ]
        }
      ]
    },
    {
      "cell_type": "markdown",
      "source": [
        "### Remember what I told you about appending strings within python.\n",
        "\n",
        "I said, you cannot add strings. But, you can append them together. It means, you cannot add \"Apple\" string to a \"Banana\" string and expect a Mango or something like that string in return. However,You can append them like \"Apple Mango\" i.e, at the end of one string, you can append the another string to exist.\n",
        "\n",
        "It's done by Python's + operator though.\n"
      ],
      "metadata": {
        "id": "z6cjgKEa-Qt7"
      }
    },
    {
      "cell_type": "code",
      "source": [
        "x = \"Your_name\"\n",
        "y = \"my_name\"\n",
        "z = \"her_name\"\n",
        "print(x + y + z)"
      ],
      "metadata": {
        "colab": {
          "base_uri": "https://localhost:8080/"
        },
        "id": "Tj94G7CO94dP",
        "outputId": "02df5e7b-20b6-4b44-b3ac-32b9674b78c7"
      },
      "execution_count": null,
      "outputs": [
        {
          "output_type": "stream",
          "name": "stdout",
          "text": [
            "Your_namemy_nameher_name\n"
          ]
        }
      ]
    },
    {
      "cell_type": "code",
      "source": [
        "# see it's appended right after the first string ends.\n",
        "# however, there is no space in between. It's obvious since, our variables have no spaces at its ends.\n",
        "# we can manually add it though, if you lie.\n",
        "\n",
        "# one way to add space:\n",
        "x = \"Your_name \" # add a blank space at the end of each string\n",
        "y = \"my_name \"\n",
        "z = \"her_name \"\n",
        "print(x + y + z)\n",
        "\n",
        "# another way\n",
        "x = \"Your_name\"\n",
        "y = \"my_name\"\n",
        "z = \"her_name\"\n",
        "print(x + \" \" + y + \" \" + z) # add a blank string between x and y in the print statement.\n",
        "# this also works. however, the earlier one is more effective and more elegant way to do it."
      ],
      "metadata": {
        "colab": {
          "base_uri": "https://localhost:8080/"
        },
        "id": "Nu29SUur_CUD",
        "outputId": "40564497-3c61-4a18-d8eb-06496af01f63"
      },
      "execution_count": null,
      "outputs": [
        {
          "output_type": "stream",
          "name": "stdout",
          "text": [
            "Your_name my_name her_name \n",
            "Your_name my_name her_name\n"
          ]
        }
      ]
    },
    {
      "cell_type": "markdown",
      "source": [
        "# Global Variables\n",
        "\n",
        "Variables that are created outside of a function (as in all of the examples above) are known as global variables.\n",
        "\n",
        "Global variables can be used by everyone, both inside of functions and outside.\n",
        "\n",
        "A global variable is supposed to be trigerred from anywhere in your python code.\n",
        "\n",
        "And, you can also create a local variable with the same name as a global variable. And it won't trigger any errors. This newly created local variable will only be operatable inside the function or class in which it is defined and not anywhere outside.\n",
        "\n"
      ],
      "metadata": {
        "id": "h8QpIEmtAA7X"
      }
    },
    {
      "cell_type": "code",
      "source": [
        "x = \"Your_name\"\n",
        "\n",
        "def myfunc():\n",
        "  print(x)\n",
        "  d = \"My_name\"\n",
        "  print(d)\n",
        "\n",
        "print(x)\n",
        "print(d)\n",
        "myfunc()\n",
        "\n",
        "# here you see, x is defined globally, so it can called from both outside and inside the function.\n",
        "# but here, d is a local variable defined inside the function, \"myfunc\".\n",
        "# so, calling d inside the function worked.\n",
        "# however, calling \"d\" outside the function throw a NameError saying that \"d\" is not defined.\n",
        "# it means to say, d is not anywhere in the global scope."
      ],
      "metadata": {
        "colab": {
          "base_uri": "https://localhost:8080/"
        },
        "id": "smsptjHT_iCe",
        "outputId": "4dde5737-98c8-4828-c10b-7a318cbf5972"
      },
      "execution_count": null,
      "outputs": [
        {
          "output_type": "stream",
          "name": "stdout",
          "text": [
            "Your_name\n",
            "1j\n",
            "Your_name\n",
            "My_name\n"
          ]
        }
      ]
    },
    {
      "cell_type": "markdown",
      "source": [
        "## you can still create a global variable within the local scope though.\n",
        "\n",
        "It is done through the global keyword, provided by Python. What it does is, when you a defining a variable, add it in the beginning and now the variale is also recognized in both the global and local scope.\n"
      ],
      "metadata": {
        "id": "7jUVA28-BnBO"
      }
    },
    {
      "cell_type": "code",
      "source": [
        "def myfunc():\n",
        "  global x\n",
        "  x = \"Your_name\"\n",
        "  print(x)\n",
        "\n",
        "myfunc()\n",
        "\n",
        "print(x)\n",
        "# see in both cases, the varible's value is being outputted."
      ],
      "metadata": {
        "colab": {
          "base_uri": "https://localhost:8080/"
        },
        "id": "FNJXRAGCAvfN",
        "outputId": "26d58166-14e0-495d-9e6e-98c71d8e3bac"
      },
      "execution_count": null,
      "outputs": [
        {
          "output_type": "stream",
          "name": "stdout",
          "text": [
            "Your_name\n",
            "Your_name\n"
          ]
        }
      ]
    },
    {
      "cell_type": "markdown",
      "source": [
        "You can also change the value of a global variable while staying within the local scope.\n"
      ],
      "metadata": {
        "id": "EdkJc4p_CQ8F"
      }
    },
    {
      "cell_type": "code",
      "source": [
        "x = \"Your_name\"\n",
        "\n",
        "def myfunc():\n",
        "  global x\n",
        "  x = \"My_name\"\n",
        "\n",
        "myfunc()\n",
        "\n",
        "print(x)\n",
        "\n",
        "# see our x is an globally defined variable.\n",
        "# we used global keyword inside the function which referenced to the global variable.\n",
        "# and we could change the name of global variable while still existing in the local scope.\n"
      ],
      "metadata": {
        "colab": {
          "base_uri": "https://localhost:8080/"
        },
        "id": "OIJIQtI-CGyN",
        "outputId": "40a4e8fa-788e-446c-f508-bcae5335e9ab"
      },
      "execution_count": null,
      "outputs": [
        {
          "output_type": "stream",
          "name": "stdout",
          "text": [
            "My_name\n"
          ]
        }
      ]
    },
    {
      "cell_type": "markdown",
      "source": [
        "**A short message for you.**\n",
        "\n",
        "Dear coder,\n",
        "\n",
        "It's okay, if you feel a little overwhelmed by now. Just keep going, practice coding exercises. Be enthusiastic and try to imagine what else could be done here. I'm sure, you will be able to deal with the early fears of code.\n",
        "\n",
        "Enjoy and continue learning. 😎"
      ],
      "metadata": {
        "id": "btB5wKjOCz80"
      }
    },
    {
      "cell_type": "markdown",
      "source": [
        "# Data Types in Python.\n",
        "\n",
        "In programming, data type is an important concept.\n",
        "\n",
        "Variables can store data of different types, and different types can do different things.\n",
        "\n",
        "Python has the following data types built-in by default, in these categories:\n",
        "\n",
        "*   Text Type:\t`str`\n",
        "*   Numeric Types:\t`int, float, complex`\n",
        "*   Sequence Types:\t`list, tuple, range`\n",
        "*   Mapping Type:\t`dict`\n",
        "*   Set Types:\t`set, frozenset`\n",
        "*   Boolean Type:\t`bool`\n",
        "*   Binary Types:\t`bytes, bytearray, memoryview`\n",
        "*   None Type:\t`NoneType`\n",
        "\n",
        "### As I mentioned earlier, You can check the datatype of a variable using the type() function.\n",
        "\n",
        "Here's a resource for you to check out to learn more about data types.\n",
        "\n",
        "Link: https://www.digitalocean.com/community/tutorials/python-data-types\n",
        "\n"
      ],
      "metadata": {
        "id": "Ed-XlmUSDYXE"
      }
    },
    {
      "cell_type": "code",
      "source": [
        "# here's the practical implementation of the various datatypes in python.\n",
        "\n",
        "a = \"Hello World\"\t# str\n",
        "b = 20\t# int\n",
        "c = 20.5\t# float\n",
        "d = 1j\t# complex\n",
        "e = [\"apple\", \"banana\", \"cherry\"]\t# list\n",
        "f = (\"apple\", \"banana\", \"cherry\")\t# tuple\n",
        "g = range(6)\t# range\n",
        "h = {\"name\" : \"John\", \"age\" : 36}\t# dict\n",
        "i = {\"apple\", \"banana\", \"cherry\"}\t# set\n",
        "j = frozenset({\"apple\", \"banana\", \"cherry\"})\t# frozenset\n",
        "k = True\t# bool\n",
        "l = b\"Hello\"\t# bytes\n",
        "m = bytearray(5)\t# bytearray\n",
        "n = memoryview(bytes(5))\t# memoryview\n",
        "o = None\t# NoneType\n",
        "\n",
        "# here, don't be scared by these underscores, these are only to format the output to make it look beautiful. It doesn't matter if you put it or not.\n",
        "\n",
        "print(a, \"-----------------------------------\", type(a), \"\\n\",\n",
        "      b, \"-------------------------------------------\", type(b), \"\\n\",\n",
        "      c, \"-----------------------------------------\", type(c),\"\\n\",\n",
        "      d, \"-------------------------------------------\", type(d), \"\\n\",\n",
        "      e, \"----------------\", type(e), \"\\n\",\n",
        "      f, \"----------------\", type(f), \"\\n\",\n",
        "      g, \"----------------------------------\", type(g), \"\\n\",\n",
        "      h, \"------------------\", type(h), \"\\n\",\n",
        "      i, \"----------------\", type(i), \"\\n\",\n",
        "      j, \"-----\", type(j), \"\\n\",\n",
        "      k, \"-----------------------------------------\", type(k), \"\\n\",\n",
        "      l, \"-------------------------------------\", type(l), \"\\n\",\n",
        "      m, \"-----------\", type(m), \"\\n\",\n",
        "      n, \"-------------------\", type(n), \"\\n\",\n",
        "      o, \"-----------------------------------------\", type(o), \"\\n\")\n"
      ],
      "metadata": {
        "colab": {
          "base_uri": "https://localhost:8080/"
        },
        "id": "OOQkAPOeChun",
        "outputId": "2ca8c61d-56cd-4ceb-8be5-33310e9566d1"
      },
      "execution_count": null,
      "outputs": [
        {
          "output_type": "stream",
          "name": "stdout",
          "text": [
            "Hello World ----------------------------------- <class 'str'> \n",
            " 20 ------------------------------------------- <class 'int'> \n",
            " 20.5 ----------------------------------------- <class 'float'> \n",
            " 1j ------------------------------------------- <class 'complex'> \n",
            " ['apple', 'banana', 'cherry'] ---------------- <class 'list'> \n",
            " ('apple', 'banana', 'cherry') ---------------- <class 'tuple'> \n",
            " range(0, 6) ---------------------------------- <class 'range'> \n",
            " {'name': 'John', 'age': 36} ------------------ <class 'dict'> \n",
            " {'banana', 'cherry', 'apple'} ---------------- <class 'set'> \n",
            " frozenset({'banana', 'cherry', 'apple'}) ----- <class 'frozenset'> \n",
            " True ----------------------------------------- <class 'bool'> \n",
            " b'Hello' ------------------------------------- <class 'bytes'> \n",
            " bytearray(b'\\x00\\x00\\x00\\x00\\x00') ----------- <class 'bytearray'> \n",
            " <memory at 0x7d7be272cc40> ------------------- <class 'memoryview'> \n",
            " None ----------------------------------------- <class 'NoneType'> \n",
            "\n"
          ]
        }
      ]
    },
    {
      "cell_type": "markdown",
      "source": [
        "As we discussed earlier, we can also specifically typecast the data type of a variable."
      ],
      "metadata": {
        "id": "AtT2cqVfJb1P"
      }
    },
    {
      "cell_type": "code",
      "source": [
        "# here's the practical implementation of the explictly specifying various datatypes for a variable.\n",
        "\n",
        "\n",
        "a = str(\"Hello World\")\t# str\n",
        "b = int(20)\t# int\n",
        "c = float(20.5)\t# float\n",
        "d = complex(1j)\t# complex\n",
        "e = list((\"apple\", \"banana\", \"cherry\"))\t# list\n",
        "f = tuple((\"apple\", \"banana\", \"cherry\"))\t# tuple\n",
        "g = range(6)\t# range\n",
        "h = dict(name=\"John\", age=36)\t# dict\n",
        "i = set((\"apple\", \"banana\", \"cherry\"))\t# set\n",
        "j = frozenset((\"apple\", \"banana\", \"cherry\"))\t# frozenset\n",
        "k = bool(5)\t# bool\n",
        "l = bytes(5)\t# bytes\n",
        "m = bytearray(5)\t# bytearray\n",
        "n = memoryview(bytes(5))\t# memoryview\n",
        "\n",
        "# see nothing changes even after typecasting. we just explicitly typecasted so that, the datatypes of each variable be predefined.\n",
        "print(a, \"\\n\", b, \"\\n\", c,  \"\\n\", d,  \"\\n\", e,  \"\\n\", f,  \"\\n\", g,  \"\\n\", h,  \"\\n\", i,  \"\\n\", j,  \"\\n\", k,  \"\\n\", l,  \"\\n\", m,  \"\\n\", n)"
      ],
      "metadata": {
        "colab": {
          "base_uri": "https://localhost:8080/"
        },
        "id": "0QNtxImDFMaU",
        "outputId": "ff47330f-ed84-4e43-f4ca-c8e5e7710abf"
      },
      "execution_count": null,
      "outputs": [
        {
          "output_type": "stream",
          "name": "stdout",
          "text": [
            "Hello World \n",
            " 20 \n",
            " 20.5 \n",
            " 1j \n",
            " ['apple', 'banana', 'cherry'] \n",
            " ('apple', 'banana', 'cherry') \n",
            " range(0, 6) \n",
            " {'name': 'John', 'age': 36} \n",
            " {'banana', 'cherry', 'apple'} \n",
            " frozenset({'banana', 'cherry', 'apple'}) \n",
            " True \n",
            " b'\\x00\\x00\\x00\\x00\\x00' \n",
            " bytearray(b'\\x00\\x00\\x00\\x00\\x00') \n",
            " <memory at 0x7d7be2907c40>\n"
          ]
        }
      ]
    },
    {
      "cell_type": "markdown",
      "source": [
        "### Numbers in Python:\n",
        "*   int\n",
        "*   float\n",
        "*   complex\n",
        "\n",
        "The variables in python are associated to a specific numeric type when you assign it to a value."
      ],
      "metadata": {
        "id": "yva9UkxBhoYw"
      }
    },
    {
      "cell_type": "code",
      "source": [
        "# Here's an example for this one:\n",
        "\n",
        "x = 1    # int\n",
        "y = 1.2  # float\n",
        "z = 1j   # complex\n",
        "\n",
        "print(type(x)) # output: <class 'int'>\n",
        "print(type(y)) # output: <class 'float'>\n",
        "print(type(z)) # output: <class 'complex'>"
      ],
      "metadata": {
        "colab": {
          "base_uri": "https://localhost:8080/"
        },
        "id": "Z2RONQxXDp_q",
        "outputId": "9615aa2d-e055-4314-c605-f2a8246fda94"
      },
      "execution_count": null,
      "outputs": [
        {
          "output_type": "stream",
          "name": "stdout",
          "text": [
            "<class 'int'>\n",
            "<class 'float'>\n",
            "<class 'complex'>\n"
          ]
        }
      ]
    },
    {
      "cell_type": "markdown",
      "source": [
        "**Have a look at the documentation to understand regarding the numbers in python from w3schools.**\n",
        "\n",
        "link: https://www.w3schools.com/python/python_numbers.asp"
      ],
      "metadata": {
        "id": "90i74Xuvikn_"
      }
    },
    {
      "cell_type": "markdown",
      "source": [
        "### Type Conversion\n",
        "simply means converting the type of one variable to another. Take for instance, converting int to float, float to int or complex and so on.\n",
        "\n"
      ],
      "metadata": {
        "id": "OYWdwWPki4Bo"
      }
    },
    {
      "cell_type": "code",
      "source": [
        "# here's a demonstration of type conversion:\n",
        "\n",
        "x = 1    # int\n",
        "y = 2.8  # float\n",
        "z = 1j   # complex\n",
        "t = 2.99 # float\n",
        "\n",
        "#convert from int to float:\n",
        "a = float(x)\n",
        "\n",
        "#convert from float to int:\n",
        "b = int(y)\n",
        "g = int(t)\n",
        "\n",
        "#convert from int to complex:\n",
        "c = complex(x)\n",
        "\n",
        "print(a)\n",
        "print(b)\n",
        "print(g)\n",
        "print(c)\n",
        "\n",
        "print(type(a))\n",
        "print(type(b))\n",
        "print(type(g))\n",
        "print(type(c))"
      ],
      "metadata": {
        "colab": {
          "base_uri": "https://localhost:8080/"
        },
        "id": "UYh8xVqJiIDq",
        "outputId": "228e6897-970a-4f67-ef0d-a618536e1c7f"
      },
      "execution_count": null,
      "outputs": [
        {
          "output_type": "stream",
          "name": "stdout",
          "text": [
            "1.0\n",
            "2\n",
            "2\n",
            "(1+0j)\n",
            "<class 'float'>\n",
            "<class 'int'>\n",
            "<class 'int'>\n",
            "<class 'complex'>\n"
          ]
        }
      ]
    },
    {
      "cell_type": "markdown",
      "source": [
        "### Here's some things to consider here:\n",
        "\n",
        "1. Here in this type conversion, it is clearly seen that, when 1; of type int is converted to floating point, it becomes 1.0.\n",
        "\n",
        "2. Also, when 2.8 which of type floating point, when converted to integer, it goes from 2.8 to 2. It doesn't matter whether it's 2.3, 2.8 or 2.99. It will still become 2 when done type-conversion.\n",
        "\n",
        "3. Datatypes like int and float can be converted into complex as we saw with the variable \"c\" here. However, complex numbers cannot be converted into other datatypes.\n",
        "\n"
      ],
      "metadata": {
        "id": "TC-vIekojd_8"
      }
    },
    {
      "cell_type": "markdown",
      "source": [
        "# Random Numbers\n",
        "\n",
        "😎 Okay, here's a fun fact, there are two kinds of Random numbers:\n",
        "1. True Random Numbers: Actually random, not calculated by some algorithm, but a number with high entropy. (**High Entropy = High Randomness**)\n",
        "\n",
        "2. Pseudo Random Numbers: These are not actually true random because there is a huge random sequence of numbers fed to an algorithm by a human personnel. The algorithm than generates a random by performing the set of specified rules. So, even though it's considered random, it's not truly random and thus called pseudo-random.\n",
        "\n",
        "## Random Numbers in Python:\n",
        "\n",
        "So, actually, python doesn't have a random() function to make a random number, it actually has a built-in module called random. This module generates a random number everytime it is run."
      ],
      "metadata": {
        "id": "ixV9BstxlWa9"
      }
    },
    {
      "cell_type": "code",
      "source": [
        "# to import a library in python, we use the import statement.\n",
        "\n",
        "import random # this code imports a module called \"random\" that comes built-in with the python programming package.\n",
        "\n",
        "a = random.randrange(1, 11, 3 )# Choose a random item from range(start, stop[, step]).\n",
        "print(a)\n",
        "\n",
        "list = ['a', 'b', 'c', 'd']\n",
        "b = random.choice(list) # Choose a random element from a non-empty sequence.\n",
        "print(b)\n",
        "\n",
        "c = random.betavariate(1.0, 1.0) # Beta distribution.\n",
        "\n",
        "# Conditions on the parameters are alpha > 0 and beta > 0.\n",
        "# Returned values range between 0 and 1.\n",
        "\n",
        "print(c)\n",
        "\n",
        "\n",
        "# Here's some example implementation of the various methods within the random module in python.\n",
        "\n",
        "print(random.random())  # generates a random float number between 0.0 and 1.0.\n",
        "\n",
        "print(random.uniform(1.0, 10.0))  # Generates a random float number between a and b.\n",
        "\n",
        "print(random.randint(1, 10))  # Generates a random integer between a and b (inclusive).\n",
        "\n",
        "print(random.randrange(1, 10, 2))  # Generates a random integer from the range start to stop - 1 with an optional step.\n",
        "\n",
        "print(random.choice(['apple', 'banana', 'cherry']))  # Selects a random element from a non-empty sequence.\n",
        "\n",
        "print(random.choices(['apple', 'banana', 'cherry'], weights=[2, 3, 1], k=2))  # Returns a list of k elements chosen from the population with optional weights.\n",
        "\n",
        "print(random.sample(range(1, 11), 3))  # Returns a list of k unique elements chosen from the population.\n",
        "\n",
        "numbers = [1, 2, 3, 4, 5]\n",
        "random.shuffle(numbers) # Shuffles the sequence x in place.\n",
        "print(numbers)  # Example: [4, 1, 3, 5, 2]\n",
        "\n",
        "random.seed(10) # Initializes the random number generator with a seed value.\n",
        "print(random.random())  # Example: 0.5714025946899135\n",
        "\n",
        "print(random.getrandbits(5))  # Generates a random integer with k random bits. For Example: 19 (binary: 10011)\n",
        "\n",
        "print(random.betavariate(1.0, 1.0))  # Generates a random float number from the Beta distribution. For Example: 0.7683443133857885\n",
        "\n",
        "print(random.expovariate(1.5))  # Generates a random float number from the Exponential distribution. For Example: 0.47478632229084667\n",
        "\n",
        "print(random.gammavariate(2.0, 2.0))  # Generates a random float number from the Gamma distribution. For Example: 3.2329488276807903\n",
        "\n",
        "print(random.gauss(0, 1))  #Generates a random float number from the Gaussian (Normal) distribution. For Example: -0.27300907804881097\n",
        "\n",
        "print(random.lognormvariate(0, 1))  # Generates a random float number from the Log-Normal distribution. For Example: 0.7877284593196768\n",
        "\n",
        "print(random.normalvariate(0, 1))  # Generates a random float number from the Normal distribution. For Example: 1.2341813422617056\n",
        "\n",
        "print(random.vonmisesvariate(0, 4))  # Generates a random float number from the Von Mises distribution. For Example: 0.9819016092563971\n",
        "\n",
        "print(random.paretovariate(1))  # Generates a random float number from the Pareto distribution. For Example: 2.576782742269336\n",
        "\n",
        "print(random.weibullvariate(1, 1.5))  # Generates a random float number from the Weibull distribution. For Example: 0.6993386333661752"
      ],
      "metadata": {
        "colab": {
          "base_uri": "https://localhost:8080/"
        },
        "id": "9SeCy_MejXuP",
        "outputId": "e2e9f56f-df45-4730-8f62-0469aabd8e52"
      },
      "execution_count": null,
      "outputs": [
        {
          "output_type": "stream",
          "name": "stdout",
          "text": [
            "4\n",
            "a\n",
            "0.011338801954707576\n",
            "0.1657115622257842\n",
            "3.1762268593969227\n",
            "5\n",
            "9\n",
            "apple\n",
            "['cherry', 'apple']\n",
            "[6, 10, 9]\n",
            "[1, 5, 3, 4, 2]\n",
            "0.5714025946899135\n",
            "13\n",
            "0.9778222639841229\n",
            "0.4139842084648986\n",
            "3.9203944868534286\n",
            "0.09836536714400898\n",
            "0.9817592104761427\n",
            "-0.41094664179890317\n",
            "6.172829291642727\n",
            "5.7752802253641375\n",
            "0.4523596691322057\n"
          ]
        }
      ]
    },
    {
      "cell_type": "markdown",
      "source": [
        "# Python Strings\n",
        "Strings in python  are sequences of characters enclosed in single quotes ('), double quotes (\"), triple single quotes ('''), or triple double quotes (\"\"\").\n",
        "\n",
        "Fact: They are **immutable,** meaning that once a string is created, it cannot be changed.\n",
        "\n",
        "*Immutable: non-changeable (cannot be changed once created, in this case.)*"
      ],
      "metadata": {
        "id": "-uNDsSEyGEC6"
      }
    },
    {
      "cell_type": "code",
      "source": [
        "# Here's how strings are created in Python:\n",
        "\n",
        "single_quote = 'Hello, World!'\n",
        "double_quote = \"Hello, World!\"\n",
        "triple_single_quote = '''Hello,\n",
        "World!'''\n",
        "triple_double_quote = \"\"\"Hello,\n",
        "World!\"\"\"\n",
        "\n",
        "print(single_quote)\n",
        "print(double_quote)\n",
        "print(triple_single_quote)\n",
        "print(triple_double_quote)\n",
        "\n",
        "# Quotes Inside Quotes\n",
        "\"\"\"\n",
        "When you want to use quotes inside quotes,\n",
        "you must ensure that the quotation doesn't intermix.\n",
        "This is because if you will have a quotation outside and another one inside,\n",
        "python compiler will take the next quotation as the end of that string and\n",
        "the reamaining part of the string as random code causing error.\n",
        "\"\"\"\n",
        "# Here's the implementation example:\n",
        "\n",
        "print(\"It's alright\") # a single quotation inside double quotation.\n",
        "print(\"He is called 'Johnny'\") # a dual single quotation inside a double quotation.\n",
        "print('He is called \"Johnny\"') # a dual double quotation inside a single quotation.\n",
        "\n",
        "# Here's the implementation of a multiline string or multi-line comment, if you remember, we did this in the early beginning part of this notebook.\n",
        "\n",
        "a = \"\"\"\n",
        "This is inside triple quotation. It represents multi-line string.\n",
        "Also, You can keep multi-line quotation inside triple quotation like this.\n",
        "\"\"\"\n",
        "\n",
        "print(a)\n",
        "\n",
        "# Here's the implementation of how same quotation repeated double will throw an error:\n",
        "a = \"Hello, World!\" Hello, World!\" # See, due to the same quotation in the middle, the remaining part is not included in the string and it will throw an error in the print statement.\n",
        "print(a)\n"
      ],
      "metadata": {
        "id": "NCXKlx6LnMmw",
        "colab": {
          "base_uri": "https://localhost:8080/"
        },
        "outputId": "a9834b0b-9c94-4cbe-8d39-3c0d447da2da"
      },
      "execution_count": null,
      "outputs": [
        {
          "output_type": "stream",
          "name": "stdout",
          "text": [
            "Hello, World!\n",
            "Hello, World!\n",
            "Hello,\n",
            "World!\n",
            "Hello,\n",
            "World!\n",
            "It's alright\n",
            "He is called 'Johnny'\n",
            "He is called \"Johnny\"\n",
            "\n",
            "This is inside triple quotation. It represents multi-line string. \n",
            "Also, You can keep multi-line quotation inside triple quotation like this.\n",
            "\n",
            "\n",
            "This is inside triple quotation. It represents multi-line string. \n",
            "Also, You can keep multi-line quotation inside triple quotation like this.\n",
            "\n"
          ]
        }
      ]
    },
    {
      "cell_type": "markdown",
      "source": [
        "## Strings are Arrays\n",
        "\n",
        "Array is a data structure that we will be introducing later in this notebook. For now, just understand this, array are just a list of elements each with an index to which can be used to call it. Also, an array starts with an index 0. i.e., the first letter of the string has an index 0 and the next has 1 and so on.\n",
        "\n",
        "### For example:\n",
        "M y _ N a m e\n",
        "\n",
        "0 1 2 3 4 5 6\n",
        "\n",
        "Here, if you have to call M you call with and index[0] and so on.\n",
        "\n",
        "\n"
      ],
      "metadata": {
        "id": "pk0ujcr-J3IM"
      }
    },
    {
      "cell_type": "code",
      "source": [
        "# Here's the implementation of it:\n",
        "a = \"Hello, World!\"\n",
        "print(a[1]) # output will be: e"
      ],
      "metadata": {
        "colab": {
          "base_uri": "https://localhost:8080/"
        },
        "id": "CEWvKsDPHCjG",
        "outputId": "f5ce0f9a-a5c1-4cec-fcb5-a61bc69df6ba"
      },
      "execution_count": null,
      "outputs": [
        {
          "output_type": "stream",
          "name": "stdout",
          "text": [
            "e\n"
          ]
        }
      ]
    },
    {
      "cell_type": "markdown",
      "source": [
        "### Strings can be looped through:\n",
        "\n",
        "Since strings are arrays, i.e., elements can be tracked, so, you can loop through it by calling it through the index."
      ],
      "metadata": {
        "id": "7tHSxd6EMduf"
      }
    },
    {
      "cell_type": "code",
      "source": [
        "# Here's its implementation:\n",
        "# For loop implementation in python is also implemented here.\n",
        "\n",
        "for x in \"my_name\": # the quotation will also be looped through since it also comes under the string.\n",
        "  print(x)"
      ],
      "metadata": {
        "colab": {
          "base_uri": "https://localhost:8080/"
        },
        "id": "D9-0LslGL6Xp",
        "outputId": "83051a66-9778-4ca9-cae5-5f7aeb2c0c77"
      },
      "execution_count": null,
      "outputs": [
        {
          "output_type": "stream",
          "name": "stdout",
          "text": [
            "m\n",
            "y\n",
            "_\n",
            "n\n",
            "a\n",
            "m\n",
            "e\n"
          ]
        }
      ]
    },
    {
      "cell_type": "markdown",
      "source": [
        "### len( ) function\n",
        "In Python, len() function, returns the number of items in an object, such as a string, list, tuple, set, or sequence. The syntax is len(object), where \"object\" must be a sequence or collection. For example, to return the number of characters in the string \"Hello\", you can use the code `mylist = \"Hello\"; x = len(mylist)`."
      ],
      "metadata": {
        "id": "sNOX0NAKNqxF"
      }
    },
    {
      "cell_type": "code",
      "source": [
        "# len() function implementation\n",
        "\n",
        "a = \"My_name\"\n",
        "print(len(a)) # the answer will be returned as 7\n"
      ],
      "metadata": {
        "colab": {
          "base_uri": "https://localhost:8080/"
        },
        "id": "Qr8t5SV9M8ng",
        "outputId": "87c6c87c-de50-4b3f-b84a-56d50611a031"
      },
      "execution_count": null,
      "outputs": [
        {
          "output_type": "stream",
          "name": "stdout",
          "text": [
            "7\n"
          ]
        }
      ]
    },
    {
      "cell_type": "markdown",
      "source": [
        "### \"in\" keyword in python\n",
        "The in keyword is used to check if a value is present in a sequence (list, range, string etc.)."
      ],
      "metadata": {
        "id": "pvcCU7vVORlB"
      }
    },
    {
      "cell_type": "code",
      "source": [
        "# \"in\" keyword implementation\n",
        "\n",
        "# Check if \"life\" is present in the following text:\n",
        "\n",
        "txt = \"Life goes one and on and on and on and on\"\n",
        "print(\"Life\" in txt) # Returns a boolean value i.e., True or False, if it exists or not.\n",
        "print(\"life\" in txt) # As we know python is case sensitive. So, life is not same as Life. Understand this carefully."
      ],
      "metadata": {
        "colab": {
          "base_uri": "https://localhost:8080/"
        },
        "id": "6sXC8Lt3OIrY",
        "outputId": "c842372f-608f-47b6-b183-3509122511ef"
      },
      "execution_count": null,
      "outputs": [
        {
          "output_type": "stream",
          "name": "stdout",
          "text": [
            "True\n",
            "False\n"
          ]
        }
      ]
    },
    {
      "cell_type": "code",
      "source": [
        "# we can also try it with the if-loop statement\n",
        "# Print only if \"free\" is present:\n",
        "\n",
        "txt = \"Life goes one and on and on and on and on\"\n",
        "if \"Life\" in txt:\n",
        "  print(\"Yes, 'Life' is present.\")"
      ],
      "metadata": {
        "colab": {
          "base_uri": "https://localhost:8080/"
        },
        "id": "F_aApSJgOvuw",
        "outputId": "7623063c-33de-46db-e55e-5b0401f8455b"
      },
      "execution_count": null,
      "outputs": [
        {
          "output_type": "stream",
          "name": "stdout",
          "text": [
            "Yes, 'Life' is present.\n"
          ]
        }
      ]
    },
    {
      "cell_type": "code",
      "source": [
        "# you can also use not keyword with in keyword:\n",
        "\n",
        "# Check if \"life\" is NOT present in the following text:\n",
        "\n",
        "txt = \"Life goes one and on and on and on and on\"\n",
        "print(\"experience\" not in txt) # Returns a boolean value i.e., True or False, if it exists or not."
      ],
      "metadata": {
        "colab": {
          "base_uri": "https://localhost:8080/"
        },
        "id": "FdUtw2lUPjV9",
        "outputId": "6d9df447-512b-4444-9846-fb93874d9ee3"
      },
      "execution_count": null,
      "outputs": [
        {
          "output_type": "stream",
          "name": "stdout",
          "text": [
            "True\n"
          ]
        }
      ]
    },
    {
      "cell_type": "markdown",
      "source": [
        "## Formatting Strings - Part 1:\n",
        "Strings can be formatted using various methods such as concatenation, repetition, accessing characters, slicing strings, string length, changing cases (i.e., uppercase to lowercase and vice-versa), whitespaces, finding substrings, replacing substrings, splitting and joining strings, checking string contents and such."
      ],
      "metadata": {
        "id": "edUJtXnnP73P"
      }
    },
    {
      "cell_type": "code",
      "source": [
        "# String Concatenation:\n",
        "str1 = \"Hello\"\n",
        "str2 = \"World\"\n",
        "concatenated = str1 + \" \" + str2  # \"Hello World\"\n",
        "print(concatenated)\n",
        "\n",
        "# String Repetition:\n",
        "repeated = \"Hello\" * 3  # \"HelloHelloHello\"\n",
        "print(repeated)\n",
        "\n",
        "# Accessing Characters:\n",
        "my_string = \"Hello\"\n",
        "first_char = my_string[0]  # 'H'\n",
        "last_char = my_string[-1]  # 'o'\n",
        "print(first_char)\n",
        "print(last_char)\n",
        "\n",
        "# Slicing Strings:\n",
        "sliced = my_string[1:4]  # 'ell'\n",
        "print(sliced)\n",
        "\n",
        "# String Length:\n",
        "length = len(my_string)  # 5\n",
        "print(length)\n",
        "\n",
        "# Changing Case:\n",
        "lower = my_string.lower()  # 'hello'\n",
        "upper = my_string.upper()  # 'HELLO'\n",
        "title = my_string.title()  # 'Hello'\n",
        "print(lower)\n",
        "print(upper)\n",
        "print(title)\n",
        "\n",
        "# Stripping Whitespace:\n",
        "stripped = \"  Hello  \".strip()  # 'Hello'\n",
        "lstripped = \"  Hello  \".lstrip()  # 'Hello  '\n",
        "rstripped = \"  Hello  \".rstrip()  # '  Hello'\n",
        "print(stripped)\n",
        "print(lstripped)\n",
        "print(rstripped)\n",
        "\n",
        "\n",
        "# Finding Substrings:\n",
        "my_string = \"Hello, World!\"\n",
        "index = my_string.find(\"World\")  # 7\n",
        "print(index)\n",
        "\n",
        "# Replacing Substrings:\n",
        "replaced = my_string.replace(\"World\", \"Python\")  # \"Hello, Python!\"\n",
        "print(replaced)\n",
        "\n",
        "\n",
        "# Splitting and Joining Strings:\n",
        "split = my_string.split(\",\")  # ['Hello', ' World!']\n",
        "joined = \" \".join(['Hello', 'World'])  # \"Hello World\"\n",
        "print(split)\n",
        "print(joined)\n",
        "\n",
        "# Checking String Content:\n",
        "starts_with = my_string.startswith(\"Hello\")  # True\n",
        "ends_with = my_string.endswith(\"!\")  # True\n",
        "contains = \"World\" in my_string  # True\n",
        "print(starts_with)\n",
        "print(ends_with)\n",
        "print(contains)\n"
      ],
      "metadata": {
        "colab": {
          "base_uri": "https://localhost:8080/"
        },
        "id": "QdcQyZhEP3OJ",
        "outputId": "7982df65-20bc-4b68-e8f3-88d02aeecde1"
      },
      "execution_count": null,
      "outputs": [
        {
          "output_type": "stream",
          "name": "stdout",
          "text": [
            "Hello World\n",
            "HelloHelloHello\n",
            "H\n",
            "o\n",
            "ell\n",
            "5\n",
            "hello\n",
            "HELLO\n",
            "Hello\n",
            "Hello\n",
            "Hello  \n",
            "  Hello\n",
            "7\n",
            "Hello, Python!\n",
            "['Hello', ' World!']\n",
            "Hello World\n",
            "True\n",
            "True\n",
            "True\n"
          ]
        }
      ]
    },
    {
      "cell_type": "markdown",
      "source": [
        "## Formatting Strings - Part 2:\n",
        "String formatting is also known as String interpolation. It is the process of inserting a custom string or variable in predefined text."
      ],
      "metadata": {
        "id": "JsI8ixUmRwjO"
      }
    },
    {
      "cell_type": "code",
      "source": [
        "# Using % Operator:\n",
        "formatted = \"Hello, %s!\" % \"World\"  # \"Hello, World!\"\n",
        "print(formatted)\n",
        "\n",
        "# Using format() Method:\n",
        "# Using str.format():\n",
        "formatted = \"Hello, {}!\".format(\"World\")  # \"Hello, World!\"\n",
        "print(formatted)\n",
        "\n",
        "# Using f-strings (Python 3.6+):\n",
        "name = \"World\"\n",
        "formatted = f\"Hello, {name}!\"  # \"Hello, World!\"\n",
        "print(formatted)"
      ],
      "metadata": {
        "colab": {
          "base_uri": "https://localhost:8080/"
        },
        "id": "fxxPut1zRT3p",
        "outputId": "db2ffa14-b550-4c05-b62c-65a7a22d1a55"
      },
      "execution_count": null,
      "outputs": [
        {
          "output_type": "stream",
          "name": "stdout",
          "text": [
            "Hello, World!\n",
            "Hello, World!\n",
            "Hello, World!\n"
          ]
        }
      ]
    },
    {
      "cell_type": "code",
      "source": [
        "# Here's a collective implementation of examples demonstrating various string operations:\n",
        "\n",
        "# Creating strings\n",
        "greeting = \"Hello\"\n",
        "name = \"Alice\"\n",
        "\n",
        "# Concatenation\n",
        "message = greeting + \", \" + name + \"!\"\n",
        "\n",
        "# Changing case\n",
        "upper_case_message = message.upper()\n",
        "\n",
        "# Finding substrings\n",
        "index_of_comma = message.find(\",\")\n",
        "\n",
        "# Slicing strings\n",
        "greeting_part = message[2:5] # From the character 2 to upto 4th one, i.e, upto before 5\n",
        "\n",
        "# Reversing the order of characters\n",
        "reversed_message = message[::-1]\n",
        "\n",
        "# Counting occurrences of a substring\n",
        "count = message.count(\"l\")\n",
        "\n",
        "# Replacing substrings\n",
        "personalized_message = message.replace(\"Alice\", \"Bob\")\n",
        "\n",
        "# Stripping characters. For eg., whitespace character\n",
        "strip_message = \" My, World! \" # Strip method removes whitespaces from the beginning or end of a character and not of the middle.\n",
        "\n",
        "# Splitting and joining\n",
        "words = message.split(\" \") # The split method splits the string into substrings if it finds instances of the separator. In this case, the separator is the whitespace. When it encounters a whitespace in a message, the split method breaks the string from there into two separate sub-strings.\n",
        "joined_message = \"-\".join(words) # The Join method joins two separate sub-strings or words with the joining instance defined. In this case, it's the \"-\" dash symbol.\n",
        "\n",
        "# Formatting strings\n",
        "formatted_message = f\"Message: {message}\"\n",
        "\n",
        "# Output the results\n",
        "print(message)\n",
        "print(upper_case_message)\n",
        "print(index_of_comma)\n",
        "print(greeting_part)\n",
        "print(reversed_message)\n",
        "print(greeting_part)\n",
        "print(personalized_message)\n",
        "print(strip_message.strip()) # returns \"My, World!\"\n",
        "print(words)\n",
        "print(joined_message)\n",
        "print(formatted_message)\n"
      ],
      "metadata": {
        "colab": {
          "base_uri": "https://localhost:8080/"
        },
        "id": "zATG1X6aST8_",
        "outputId": "87beb162-2fc5-4160-e77c-32c81a295a32"
      },
      "execution_count": null,
      "outputs": [
        {
          "output_type": "stream",
          "name": "stdout",
          "text": [
            "Hello, Alice!\n",
            "HELLO, ALICE!\n",
            "5\n",
            "llo\n",
            "!ecilA ,olleH\n",
            "llo\n",
            "Hello, Bob!\n",
            "My, World!\n",
            "['Hello,', 'Alice!']\n",
            "Hello,-Alice!\n",
            "Message: Hello, Alice!\n"
          ]
        }
      ]
    },
    {
      "cell_type": "code",
      "source": [
        "# Slicing can be made in many possible ways with the index.\n",
        "\n",
        "# Simple Slicing\n",
        "a = \"Your_Name\"\n",
        "print(a[2:5]) # From index 2 to index 4. i.e, indexes 2, 3, 4: So, output would be ur_\n",
        "\n",
        "# Slicing from the start\n",
        "b = \"My_Name\"\n",
        "print(b[:5]) # From index 0 to index 4. i.e, indexes 0, 1, 2, 3, 4: So, output would be My_Na\n",
        "\n",
        "# Slicing till the End\n",
        "c = \"Their_Name\"\n",
        "print(c[2:]) # From index 2 to the end. i.e, indexes 2, 3, 4: So, output would be eir_Name\n",
        "\n",
        "# Negative Index\n",
        "d = \"Our_Name\"\n",
        "print(d[-3:-1]) # From index -3 to index -1. i.e, indexes -3, -2: So, output would be am"
      ],
      "metadata": {
        "id": "YMu_t4M8ShFG",
        "colab": {
          "base_uri": "https://localhost:8080/"
        },
        "outputId": "8deefb57-dc54-409a-924b-7562767bb152"
      },
      "execution_count": null,
      "outputs": [
        {
          "output_type": "stream",
          "name": "stdout",
          "text": [
            "ur_\n",
            "My_Na\n",
            "eir_Name\n",
            "am\n"
          ]
        }
      ]
    },
    {
      "cell_type": "markdown",
      "source": [
        "## String Methods\n",
        "Strings can also be modified, edited and manipulated using various methods such as capitalize() for converting the first character to upper case; casefold() to convert the string to lower case; center() to return a centered string etc.\n",
        "\n",
        "Several other methods include count(), encode(), endswith(), expandtabs(), find(), format(), format_map(), index(), isalnum(), isalpha(), isascii(), isdecimal(), isdigit(), isidentifier(), islower() etc."
      ],
      "metadata": {
        "id": "jneHV9Edd8F0"
      }
    },
    {
      "cell_type": "code",
      "source": [
        "# Here's the implementation of the various string methods:\n",
        "\n",
        "# capitalize() - Converts the first character to upper case\n",
        "text = \"hello world\"\n",
        "print(text.capitalize())  # Output: \"Hello world\"\n",
        "\n",
        "# casefold() - Converts string into lower case (more aggressive than lower())\n",
        "text = \"HELLO WORLD\"\n",
        "print(text.casefold())  # Output: \"hello world\"\n",
        "\n",
        "# center() - Returns a centered string\n",
        "text = \"hello\"\n",
        "print(text.center(20, '*'))  # Output: \"*******hello********\"\n",
        "\n",
        "# count() - Returns the number of times a specified value occurs in a string\n",
        "text = \"hello world\"\n",
        "print(text.count('o'))  # Output: 2\n",
        "\n",
        "# encode() - Returns an encoded version of the string\n",
        "text = \"hello world\"\n",
        "print(text.encode())  # Output: b'hello world'\n",
        "\n",
        "# endswith() - Returns true if the string ends with the specified value\n",
        "text = \"hello world\"\n",
        "print(text.endswith('world'))  # Output: True\n",
        "\n",
        "# expandtabs() - Sets the tab size of the string\n",
        "text = \"hello\\tworld\"\n",
        "print(text.expandtabs(4))  # Output: \"hello   world\"\n",
        "\n",
        "# find() - Searches the string for a specified value and returns the position of where it was found\n",
        "text = \"hello world\"\n",
        "print(text.find('world'))  # Output: 6\n",
        "\n",
        "# format() - Formats specified values in a string\n",
        "text = \"Hello {}\"\n",
        "print(text.format(\"World\"))  # Output: \"Hello World\"\n",
        "\n",
        "# format_map() - Formats specified values in a string\n",
        "data = {\"name\": \"World\"}\n",
        "text = \"Hello {name}\"\n",
        "print(text.format_map(data))  # Output: \"Hello World\"\n",
        "\n",
        "# index() - Searches the string for a specified value and returns the position of where it was found\n",
        "text = \"hello world\"\n",
        "print(text.index('world'))  # Output: 6\n",
        "\n",
        "# isalnum() - Returns True if all characters in the string are alphanumeric\n",
        "text = \"hello123\"\n",
        "print(text.isalnum())  # Output: True\n",
        "\n",
        "# isalpha() - Returns True if all characters in the string are in the alphabet\n",
        "text = \"hello\"\n",
        "print(text.isalpha())  # Output: True\n",
        "\n",
        "# isascii() - Returns True if all characters in the string are ascii characters\n",
        "text = \"hello\"\n",
        "print(text.isascii())  # Output: True\n",
        "\n",
        "# isdecimal() - Returns True if all characters in the string are decimals\n",
        "text = \"12345\"\n",
        "print(text.isdecimal())  # Output: True\n",
        "\n",
        "# isdigit() - Returns True if all characters in the string are digits\n",
        "text = \"12345\"\n",
        "print(text.isdigit())  # Output: True\n",
        "\n",
        "# isidentifier() - Returns True if the string is an identifier\n",
        "text = \"variable1\"\n",
        "print(text.isidentifier())  # Output: True\n",
        "\n",
        "# islower() - Returns True if all characters in the string are lower case\n",
        "text = \"hello\"\n",
        "print(text.islower())  # Output: True\n",
        "\n",
        "# isnumeric() - Returns True if all characters in the string are numeric\n",
        "text = \"12345\"\n",
        "print(text.isnumeric())  # Output: True\n",
        "\n",
        "# isprintable() - Returns True if all characters in the string are printable\n",
        "text = \"hello world\"\n",
        "print(text.isprintable())  # Output: True\n",
        "\n",
        "# isspace() - Returns True if all characters in the string are whitespaces\n",
        "text = \"   \"\n",
        "print(text.isspace())  # Output: True\n",
        "\n",
        "# istitle() - Returns True if the string follows the rules of a title\n",
        "text = \"Hello World\"\n",
        "print(text.istitle())  # Output: True\n",
        "\n",
        "# isupper() - Returns True if all characters in the string are upper case\n",
        "text = \"HELLO\"\n",
        "print(text.isupper())  # Output: True\n",
        "\n",
        "# join() - Joins the elements of an iterable to the end of the string\n",
        "text = \"-\"\n",
        "sequence = [\"hello\", \"world\"]\n",
        "print(text.join(sequence))  # Output: \"hello-world\"\n",
        "\n",
        "# ljust() - Returns a left justified version of the string\n",
        "text = \"hello\"\n",
        "print(text.ljust(20, '*'))  # Output: \"hello***************\"\n",
        "\n",
        "# lower() - Converts a string into lower case\n",
        "text = \"HELLO WORLD\"\n",
        "print(text.lower())  # Output: \"hello world\"\n",
        "\n",
        "# lstrip() - Returns a left trim version of the string\n",
        "text = \"   hello world   \"\n",
        "print(text.lstrip())  # Output: \"hello world   \"\n",
        "\n",
        "# maketrans() - Returns a translation table to be used in translations\n",
        "text = \"hello world\"\n",
        "trans = text.maketrans(\"h\", \"y\")\n",
        "print(text.translate(trans))  # Output: \"yello world\"\n",
        "\n",
        "# partition() - Returns a tuple where the string is parted into three parts\n",
        "text = \"hello world\"\n",
        "print(text.partition(\" \"))  # Output: ('hello', ' ', 'world')\n",
        "\n",
        "# replace() - Returns a string where a specified value is replaced with a specified value\n",
        "text = \"hello world\"\n",
        "print(text.replace(\"world\", \"Python\"))  # Output: \"hello Python\"\n",
        "\n",
        "# rfind() - Searches the string for a specified value and returns the last position of where it was found\n",
        "text = \"hello world\"\n",
        "print(text.rfind('o'))  # Output: 7\n",
        "\n",
        "# rindex() - Searches the string for a specified value and returns the last position of where it was found\n",
        "text = \"hello world\"\n",
        "print(text.rindex('o'))  # Output: 7\n",
        "\n",
        "# rjust() - Returns a right justified version of the string\n",
        "text = \"hello\"\n",
        "print(text.rjust(20, '*'))  # Output: \"***************hello\"\n",
        "\n",
        "# rpartition() - Returns a tuple where the string is parted into three parts\n",
        "text = \"hello world\"\n",
        "print(text.rpartition(\" \"))  # Output: ('hello', ' ', 'world')\n",
        "\n",
        "# rsplit() - Splits the string at the specified separator, and returns a list\n",
        "text = \"hello world\"\n",
        "print(text.rsplit(\" \"))  # Output: ['hello', 'world']\n",
        "\n",
        "# rstrip() - Returns a right trim version of the string\n",
        "text = \"   hello world   \"\n",
        "print(text.rstrip())  # Output: \"   hello world\"\n",
        "\n",
        "# split() - Splits the string at the specified separator, and returns a list\n",
        "text = \"hello world\"\n",
        "print(text.split(\" \"))  # Output: ['hello', 'world']\n",
        "\n",
        "# splitlines() - Splits the string at line breaks and returns a list\n",
        "text = \"hello\\nworld\"\n",
        "print(text.splitlines())  # Output: ['hello', 'world']\n",
        "\n",
        "# startswith() - Returns true if the string starts with the specified value\n",
        "text = \"hello world\"\n",
        "print(text.startswith(\"hello\"))  # Output: True\n",
        "\n",
        "# strip() - Returns a trimmed version of the string\n",
        "text = \"   hello world   \"\n",
        "print(text.strip())  # Output: \"hello world\"\n",
        "\n",
        "# swapcase() - Swaps cases, lower case becomes upper case and vice versa\n",
        "text = \"Hello World\"\n",
        "print(text.swapcase())  # Output: \"hELLO wORLD\"\n",
        "\n",
        "# title() - Converts the first character of each word to upper case\n",
        "text = \"hello world\"\n",
        "print(text.title())  # Output: \"Hello World\"\n",
        "\n",
        "# translate() - Returns a translated string\n",
        "text = \"hello world\"\n",
        "trans = text.maketrans(\"h\", \"y\")\n",
        "print(text.translate(trans))  # Output: \"yello world\"\n",
        "\n",
        "# upper() - Converts a string into upper case\n",
        "text = \"hello world\"\n",
        "print(text.upper())  # Output: \"HELLO WORLD\"\n",
        "\n",
        "# zfill() - Fills the string with a specified number of 0 values at the beginning\n",
        "text = \"hello\"\n",
        "print(text.zfill(10))  # Output: \"00000hello\"\n"
      ],
      "metadata": {
        "colab": {
          "base_uri": "https://localhost:8080/"
        },
        "id": "Ph8UzHINfgZ_",
        "outputId": "732f101b-1ea1-47df-d1ab-bcc98c1bfca5"
      },
      "execution_count": null,
      "outputs": [
        {
          "output_type": "stream",
          "name": "stdout",
          "text": [
            "Hello world\n",
            "hello world\n",
            "*******hello********\n",
            "2\n",
            "b'hello world'\n",
            "True\n",
            "hello   world\n",
            "6\n",
            "Hello World\n",
            "Hello World\n",
            "6\n",
            "True\n",
            "True\n",
            "True\n",
            "True\n",
            "True\n",
            "True\n",
            "True\n",
            "True\n",
            "True\n",
            "True\n",
            "True\n",
            "True\n",
            "hello-world\n",
            "hello***************\n",
            "hello world\n",
            "hello world   \n",
            "yello world\n",
            "('hello', ' ', 'world')\n",
            "hello Python\n",
            "7\n",
            "7\n",
            "***************hello\n",
            "('hello', ' ', 'world')\n",
            "['hello', 'world']\n",
            "   hello world\n",
            "['hello', 'world']\n",
            "['hello', 'world']\n",
            "True\n",
            "hello world\n",
            "hELLO wORLD\n",
            "Hello World\n",
            "yello world\n",
            "HELLO WORLD\n",
            "00000hello\n"
          ]
        }
      ]
    },
    {
      "cell_type": "markdown",
      "source": [
        "## F-Strings\n",
        "Here, F simply stands for format() method.\n",
        "F-String was introduced in Python 3.6, and is now the preferred way of formatting strings.\n",
        "\n",
        "**It's implementation is quite simple.**\n",
        "> To specify a string as an f-string, simply put an f in front of the string literal, and add curly brackets {} as placeholders for variables and other operations"
      ],
      "metadata": {
        "id": "vWAL4tO1Y8r8"
      }
    },
    {
      "cell_type": "code",
      "source": [
        "# Here's is it's code implementation:\n",
        "\n",
        "your_name = \"Alice\"\n",
        "greeting = f\"Hello, {your_name}!\"\n",
        "print(greeting) # The output is: Hello, Alice!\n",
        "\n",
        "# So, it works as a simple placeholder for values assigned to the variable.\n",
        "\n",
        "price = 600\n",
        "quantity = 3\n",
        "total_cost = f\"The total cost is {price * quantity}.\"\n",
        "print(total_cost) # The output is: The total cost is 1800.\n",
        "\n",
        "# The placeholder can also futher include modifiers to format the values of the output. Here's an example:\n",
        "\n",
        "number = 123456789\n",
        "formatted_number = f\"{number:,}\"\n",
        "print(formatted_number) # The output is: 1,234,567,89\n",
        "\n",
        "# Here's another example:\n",
        "\n",
        "price = 123.456789\n",
        "formatted_price = f\"${price:.2f}\" # Displays upto two floating digits after the decimal point. Here, 12.456789 is round off to 12.46\n",
        "print(formatted_price) # The output is: $123.46\n",
        "\n",
        "new_price = 123.4232323\n",
        "formatted_new_price = f\"${new_price:.2f}\" # Displays upto two floating digits after the decimal point. Here, 123.4232323 is round off to 123.42\n",
        "print(formatted_new_price) # The output is: $123.42"
      ],
      "metadata": {
        "colab": {
          "base_uri": "https://localhost:8080/"
        },
        "id": "39r1Td7BVM1t",
        "outputId": "69843e1a-1b2d-4aee-a8bf-be7d6c305965"
      },
      "execution_count": null,
      "outputs": [
        {
          "output_type": "stream",
          "name": "stdout",
          "text": [
            "Hello, Alice!\n",
            "The total cost is 1800.\n",
            "123,456,789\n",
            "$123.46\n",
            "$123.42\n"
          ]
        }
      ]
    },
    {
      "cell_type": "markdown",
      "source": [
        "## Escape Characters\n",
        "\n",
        "Sometimes there are characters that are illegal in a string. Yet, we need it to be worked out in our code. For this we use escape characters. Whenever an escape character is encountered, illegal characters are igonred around that escape characters in that string.\n",
        "\n",
        "> An escape character is a backslash \\ followed by the character you want to insert.\n",
        "\n",
        "An example of an illegal character is a double quote inside a string that is surrounded by double quotes.\n"
      ],
      "metadata": {
        "id": "xW9jGZdgbgPH"
      }
    },
    {
      "cell_type": "code",
      "source": [
        "# Here's it's code implementation\n",
        "\n",
        "text = \"we are the so-called \\\"Vikings\\\" from the north.\" # There is double quotation inside double quotation but it escapes due to escape braces protecting it around.\n",
        "print(text) # The output is: we are the so-called \"Vikings\" from the north.\n"
      ],
      "metadata": {
        "colab": {
          "base_uri": "https://localhost:8080/"
        },
        "id": "Y3ZrkF0FZlKz",
        "outputId": "a1e9a656-7ccb-4815-8f8e-143082f17748"
      },
      "execution_count": null,
      "outputs": [
        {
          "output_type": "stream",
          "name": "stdout",
          "text": [
            "we are the so-called \"Vikings\" from the north.\n"
          ]
        }
      ]
    },
    {
      "cell_type": "markdown",
      "source": [
        "There are several other escape characters in python. Here's a summary of it:\n",
        "\n",
        "**Backslash: \\\\\\\\**\n",
        "\n",
        "Meaning: Used to insert a backslash character into a string.\n",
        "*  Example: \"This is a backslash: \\\\\" outputs: This is a backslash: \\\n",
        "\n",
        "**Single Quote: \\\\'**\n",
        "\n",
        "Meaning: Used to insert a single quote character into a string.\n",
        "*  Example: \"It\\'s a sunny day.\" outputs: It's a sunny day.\n",
        "\n",
        "**Double Quote: \\\\\"**\n",
        "\n",
        "Meaning: Used to insert a double quote character into a string.\n",
        "*  Example: \"He said, \\\"Hello!\\\"\" outputs: He said, \"Hello!\"\n",
        "\n",
        "**ASCII Bell: \\a**\n",
        "\n",
        "Meaning: Triggers the system bell or alert sound.\n",
        "*  Example: \"\\a\" may cause a beep sound depending on the system configuration.\n",
        "\n",
        "**ASCII Backspace: \\b**\n",
        "\n",
        "Meaning: Moves the cursor one position back, deleting the previous character.\n",
        "*  Example: \"ABC\\bD\" outputs: ABD (B is removed and replaced by D)\n",
        "\n",
        "**ASCII Formfeed: \\f**\n",
        "\n",
        "Meaning: Moves the cursor to the beginning of the next page (form feed).\n",
        "*  Example: \"First line\\fSecond line\" might show as First line followed by a new page with Second line (depending on the system).\n",
        "\n",
        "**ASCII Linefeed: \\n**\n",
        "\n",
        "Meaning: Moves the cursor to the next line (newline).\n",
        "*  Example: \"First line\\nSecond line\" outputs:\n",
        "*  Output:\n",
        "*  First line\n",
        "*  Second line\n",
        "\n",
        "**ASCII Carriage Return: \\r**\n",
        "\n",
        "Meaning: Moves the cursor to the beginning of the line without advancing to the next line.\n",
        "*  Example: \"First line\\rSecond line\" outputs: Second line (overwriting First line)\n",
        "\n",
        "**ASCII Horizontal Tab: \\t**\n",
        "\n",
        "Meaning: Moves the cursor to the next tab stop.\n",
        "*  Example: \"Column1\\tColumn2\" outputs: Column1 Column2 (with tab space in between)\n",
        "\n",
        "**ASCII Vertical Tab: \\v**\n",
        "\n",
        "Meaning: Moves the cursor to the next vertical tab stop.\n",
        "*  Example: \"Line1\\vLine2\" outputs: Line1 Line2 (with vertical space)\n",
        "\n",
        "Character with Octal Value: \\ooo\n",
        "\n",
        "Meaning: Represents a character with the given octal value.\n",
        "*  Example: \"\\101\" outputs: A (Octal 101 is 'A')\n",
        "\n",
        "**Character with Hex Value: \\xhh**\n",
        "\n",
        "Meaning: Represents a character with the given hex value.\n",
        "*  Example: \"\\x41\" outputs: A (Hex 41 is 'A')\n",
        "\n",
        "**Unicode Character with 16-bit hex value: \\uXXXX**\n",
        "\n",
        "Meaning: Represents a Unicode character with a 16-bit hex value.\n",
        "*  Example: \"\\u0041\" outputs: A (Unicode for 'A')\n",
        "\n",
        "**Unicode Character with 32-bit hex value: \\UXXXXXXXX**\n",
        "\n",
        "Meaning: Represents a Unicode character with a 32-bit hex value.\n",
        "*  Example: \"\\U00000041\" outputs: A (Unicode for 'A')\n",
        "\n",
        "**Unicode Character by Name: \\N{name}**\n",
        "\n",
        "Meaning: Represents a Unicode character by its name.\n",
        "*  Example: \"\\N{LATIN CAPITAL LETTER A}\" outputs: A (Unicode for 'A')\n",
        "\n"
      ],
      "metadata": {
        "id": "R_f5s6OPcbHA"
      }
    },
    {
      "cell_type": "code",
      "source": [
        "\n",
        "# Backslash\n",
        "print(\"Example of Backslash: This is a backslash -> \\\\\")\n",
        "\n",
        "# Single Quote\n",
        "print(\"Example of Single Quote: It\\'s a sunny day.\")\n",
        "\n",
        "# Double Quote\n",
        "print(\"Example of Double Quote: He said, \\\"Hello!\\\"\")\n",
        "\n",
        "# ASCII Bell\n",
        "print(\"Example of ASCII Bell: \\a (This may not produce a visible output, but may cause a beep sound)\")\n",
        "\n",
        "# ASCII Backspace\n",
        "print(\"Example of ASCII Backspace: ABC\\bD (B is removed and replaced by D)\")\n",
        "\n",
        "# ASCII Formfeed\n",
        "print(\"Example of ASCII Formfeed: First line\\fSecond line (The formfeed might not be visible)\")\n",
        "\n",
        "# ASCII Linefeed\n",
        "print(\"Example of ASCII Linefeed: First line\\nSecond line (Moves to the next line)\")\n",
        "\n",
        "# ASCII Carriage Return\n",
        "print(\"Example of ASCII Carriage Return: First line\\rSecond line (Overwrites First line)\")\n",
        "\n",
        "# ASCII Horizontal Tab\n",
        "print(\"Example of ASCII Horizontal Tab: Column1\\tColumn2 (Adds a horizontal tab space)\")\n",
        "\n",
        "# ASCII Vertical Tab\n",
        "print(\"Example of ASCII Vertical Tab: Line1\\vLine2 (Adds a vertical tab space)\")\n",
        "\n",
        "# Character with Octal Value\n",
        "print(\"Example of Character with Octal Value: \\101 (Octal 101 is 'A')\")\n",
        "\n",
        "# Character with Hex Value\n",
        "print(\"Example of Character with Hex Value: \\x41 (Hex 41 is 'A')\")\n",
        "\n",
        "# Unicode Character with 16-bit hex\n",
        "print(\"Example of Unicode Character with 16-bit hex: \\u0041 (Unicode for 'A')\")\n",
        "\n",
        "# Unicode Character with 32-bit hex\n",
        "print(\"Example of Unicode Character with 32-bit hex: \\U00000041 (Unicode for 'A')\")\n",
        "\n",
        "# Unicode Character by Name\n",
        "print(\"Example of Unicode Character by Name: \\N{LATIN CAPITAL LETTER A} (Unicode for 'A')\")\n"
      ],
      "metadata": {
        "colab": {
          "base_uri": "https://localhost:8080/"
        },
        "id": "kD2WJTjlcWDe",
        "outputId": "3904e04c-f3f6-47bf-c1db-5af41e90b202"
      },
      "execution_count": null,
      "outputs": [
        {
          "output_type": "stream",
          "name": "stdout",
          "text": [
            "Example of Backslash: This is a backslash -> \\\n",
            "Example of Single Quote: It's a sunny day.\n",
            "Example of Double Quote: He said, \"Hello!\"\n",
            "Example of ASCII Bell: \u0007 (This may not produce a visible output, but may cause a beep sound)\n",
            "Example of ASCII Backspace: ABC\bD (B is removed and replaced by D)\n",
            "Example of ASCII Formfeed: First line\fSecond line (The formfeed might not be visible)\n",
            "Example of ASCII Linefeed: First line\n",
            "Second line (Moves to the next line)\n",
            "Example of ASCII Carriage Return: First line\rSecond line (Overwrites First line)\n",
            "Example of ASCII Horizontal Tab: Column1\tColumn2 (Adds a horizontal tab space)\n",
            "Example of ASCII Vertical Tab: Line1\u000bLine2 (Adds a vertical tab space)\n",
            "Example of Character with Octal Value: A (Octal 101 is 'A')\n",
            "Example of Character with Hex Value: A (Hex 41 is 'A')\n",
            "Example of Unicode Character with 16-bit hex: A (Unicode for 'A')\n",
            "Example of Unicode Character with 32-bit hex: A (Unicode for 'A')\n",
            "Example of Unicode Character by Name: A (Unicode for 'A')\n"
          ]
        }
      ]
    },
    {
      "cell_type": "markdown",
      "source": [
        "# A Quick Message:\n",
        "\n",
        "It's okay to not understand or remember various string methods and functions. Most of what you will be using, you will get used to it through practice. And, for the rest of them, You can always look into the official documentation.\n",
        "\n",
        "Happy coding !"
      ],
      "metadata": {
        "id": "1nuyKpq0EOyT"
      }
    },
    {
      "cell_type": "markdown",
      "source": [
        "# Boolean Values in Python\n",
        "\n",
        "In programming languages, **'True'** and **'False'** are called, Boolean values. It helps understand whether an expression or an statment is either right or not. When you evaluate an expression in Python, you can get either of these boolean values.\n",
        "\n",
        ">*Remember it is case-sensitive. **'true', 'TRUE' and 'True'** are all different. And among all of these 'True' is the only actual boolean value. Remaining of them are just words. They don't mean boolean values.*"
      ],
      "metadata": {
        "id": "wC7BDO_Yh21A"
      }
    },
    {
      "cell_type": "code",
      "source": [
        "# Here's several possible example implementation of boolean values:\n",
        "\n",
        "# Boolean values in Python\n",
        "true_value = True\n",
        "false_value = False\n",
        "\n",
        "# Using booleans in conditions\n",
        "if true_value:\n",
        "    print(\"This is True\")  # Output: This is True\n",
        "else:\n",
        "    print(\"This is False\")\n",
        "\n",
        "# Boolean operations\n",
        "a = True\n",
        "b = False\n",
        "\n",
        "# and operation\n",
        "print(a and b)  # Output: False (both must be True to be True)\n",
        "\n",
        "# or operation\n",
        "print(a or b)  # Output: True (only one needs to be True to be True)\n",
        "\n",
        "# not operation\n",
        "print(not a)  # Output: False (negates the boolean value)\n",
        "\n",
        "# Boolean comparisons\n",
        "x = 10\n",
        "y = 20\n",
        "\n",
        "# Greater than\n",
        "print(x > y)  # Output: False\n",
        "\n",
        "# Less than\n",
        "print(x < y)  # Output: True\n",
        "\n",
        "# Equal to\n",
        "print(x == y)  # Output: False\n",
        "\n",
        "# Not equal to\n",
        "print(x != y)  # Output: True\n",
        "\n",
        "# Greater than or equal to\n",
        "print(x >= y)  # Output: False\n",
        "\n",
        "# Less than or equal to\n",
        "print(x <= y)  # Output: True\n",
        "\n",
        "# Using booleans in loops\n",
        "count = 5\n",
        "while count > 0:\n",
        "    print(f\"Count is {count}\")  # Output: Count is 5, 4, 3, 2, 1\n",
        "    count -= 1\n",
        "\n",
        "# Booleans with collections\n",
        "# Checking if an element is in a list\n",
        "my_list = [1, 2, 3, 4, 5]\n",
        "print(3 in my_list)  # Output: True\n",
        "print(6 in my_list)  # Output: False\n",
        "\n",
        "# Boolean functions\n",
        "def is_even(number):\n",
        "    return number % 2 == 0\n",
        "\n",
        "print(is_even(4))  # Output: True\n",
        "print(is_even(5))  # Output: False\n",
        "\n",
        "# Boolean attributes\n",
        "class MyClass:\n",
        "    def __init__(self):\n",
        "        self.value = True\n",
        "\n",
        "    def toggle_value(self):\n",
        "        self.value = not self.value\n",
        "\n",
        "my_object = MyClass()\n",
        "print(my_object.value)  # Output: True\n",
        "my_object.toggle_value()\n",
        "print(my_object.value)  # Output: False\n",
        "\n",
        "# Using booleans with built-in functions\n",
        "print(all([True, True, False]))  # Output: False (all elements must be True)\n",
        "print(any([False, False, True]))  # Output: True (at least one element must be True)\n",
        "\n",
        "# Boolean expressions\n",
        "a = 10\n",
        "b = 20\n",
        "c = 30\n",
        "print(a < b < c)  # Output: True (chained comparison)\n",
        "\n",
        "# Ternary conditional operator\n",
        "result = \"Even\" if is_even(a) else \"Odd\"\n",
        "print(result)  # Output: Even\n",
        "\n",
        "# Using booleans with default arguments\n",
        "def greet(name, is_formal=True):\n",
        "    if is_formal:\n",
        "        print(f\"Hello, {name}. How do you do?\")\n",
        "    else:\n",
        "        print(f\"Hi, {name}!\")\n",
        "\n",
        "greet(\"Alice\", is_formal=True)  # Output: Hello, Alice. How do you do?\n",
        "greet(\"Bob\", is_formal=False)  # Output: Hi, Bob!\n",
        "greet(\"Charlie\")  # Output: Hello, Charlie. How do you do? (default argument used)\n",
        "\n",
        "# Using booleans to control function execution\n",
        "def process_data(data, validate=True):\n",
        "    if validate:\n",
        "        if not data:\n",
        "            return \"No data provided\"\n",
        "        if not isinstance(data, list):\n",
        "            return \"Invalid data type\"\n",
        "    return \"Data processed\"\n",
        "\n",
        "print(process_data([]))  # Output: No data provided\n",
        "print(process_data(\"string\"))  # Output: Invalid data type\n",
        "print(process_data([1, 2, 3]))  # Output: Data processed\n",
        "print(process_data(\"string\", validate=False))  # Output: Data processed\n",
        "\n",
        "# Boolean type conversion\n",
        "print(bool(0))  # Output: False (0 is considered False)\n",
        "print(bool(1))  # Output: True (non-zero is considered True)\n",
        "print(bool(\"\"))  # Output: False (empty string is considered False)\n",
        "print(bool(\"hello\"))  # Output: True (non-empty string is considered True)\n",
        "\n",
        "# Logical short-circuiting\n",
        "def expensive_operation():\n",
        "    print(\"Expensive operation performed\")\n",
        "    return True\n",
        "\n",
        "# `or` short-circuits if the first operand is True\n",
        "result = True or expensive_operation()  # Output: No print, short-circuits\n",
        "print(result)  # Output: True\n",
        "\n",
        "# `and` short-circuits if the first operand is False\n",
        "result = False and expensive_operation()  # Output: No print, short-circuits\n",
        "print(result)  # Output: False\n"
      ],
      "metadata": {
        "colab": {
          "base_uri": "https://localhost:8080/"
        },
        "id": "AvDVCGRjhv4e",
        "outputId": "1413e3cd-c0e3-4c76-bab1-d2ec31ddfbe3"
      },
      "execution_count": null,
      "outputs": [
        {
          "output_type": "stream",
          "name": "stdout",
          "text": [
            "This is True\n",
            "False\n",
            "True\n",
            "False\n",
            "False\n",
            "True\n",
            "False\n",
            "True\n",
            "False\n",
            "True\n",
            "Count is 5\n",
            "Count is 4\n",
            "Count is 3\n",
            "Count is 2\n",
            "Count is 1\n",
            "True\n",
            "False\n",
            "True\n",
            "False\n",
            "True\n",
            "False\n",
            "False\n",
            "True\n",
            "True\n",
            "Even\n",
            "Hello, Alice. How do you do?\n",
            "Hi, Bob!\n",
            "Hello, Charlie. How do you do?\n",
            "No data provided\n",
            "Invalid data type\n",
            "Data processed\n",
            "Data processed\n",
            "False\n",
            "True\n",
            "False\n",
            "True\n",
            "True\n",
            "False\n"
          ]
        }
      ]
    },
    {
      "cell_type": "markdown",
      "source": [
        "## Using Boolean values with Random numbers to workout uncertainity cases:\n",
        "\n",
        "Below examples show how to use random numbers and boolean values in various scenarios such as conditionals, loops, function execution, and simulations. The random module provides functions like random.random(), random.randint(), and random.choice() that help generate random numbers and make random decisions, which can be converted to or combined with boolean values for different applications."
      ],
      "metadata": {
        "id": "_ALVcCPPkmBb"
      }
    },
    {
      "cell_type": "code",
      "source": [
        "# Here's the implemention of this scenarios\n",
        "\n",
        "import random\n",
        "\n",
        "# Generate a random boolean value\n",
        "random_bool = random.choice([True, False])\n",
        "print(random_bool)  # Output: True or False\n",
        "\n",
        "# Using random boolean in conditions\n",
        "if random_bool:\n",
        "    print(\"Random boolean is True\")\n",
        "else:\n",
        "    print(\"Random boolean is False\")\n",
        "\n",
        "# Generate a random number between 0 and 1 and convert to boolean\n",
        "random_number = random.random()\n",
        "print(random_number)  # Output: A float number between 0 and 1\n",
        "boolean_value = random_number > 0.5\n",
        "print(boolean_value)  # Output: True if random_number > 0.5, else False\n",
        "\n",
        "# Generate a random integer and check if it's even or odd\n",
        "random_int = random.randint(1, 100)\n",
        "print(random_int)  # Output: A random integer between 1 and 100\n",
        "is_even = random_int % 2 == 0\n",
        "print(is_even)  # Output: True if the number is even, else False\n",
        "\n",
        "# Using random booleans in loops\n",
        "for _ in range(5):\n",
        "    random_bool = random.choice([True, False])\n",
        "    if random_bool:\n",
        "        print(\"This loop iteration is True\")\n",
        "    else:\n",
        "        print(\"This loop iteration is False\")\n",
        "\n",
        "# Using random numbers to simulate a coin toss\n",
        "def coin_toss():\n",
        "    return \"Heads\" if random.choice([True, False]) else \"Tails\"\n",
        "\n",
        "print(coin_toss())  # Output: \"Heads\" or \"Tails\"\n",
        "\n",
        "# Using random booleans to simulate a biased coin toss\n",
        "def biased_coin_toss(bias=0.7):\n",
        "    return \"Heads\" if random.random() < bias else \"Tails\"\n",
        "\n",
        "print(biased_coin_toss())  # Output: \"Heads\" more often than \"Tails\" due to bias\n",
        "\n",
        "# Using random boolean to decide action\n",
        "actions = [\"Jump\", \"Run\", \"Walk\"]\n",
        "random_action = random.choice(actions)\n",
        "should_perform_action = random.choice([True, False])\n",
        "\n",
        "if should_perform_action:\n",
        "    print(f\"Performing action: {random_action}\")\n",
        "else:\n",
        "    print(\"No action performed\")\n",
        "\n",
        "# Simulating a simple game scenario with random outcomes\n",
        "def play_game():\n",
        "    score = 0\n",
        "    for _ in range(10):\n",
        "        if random.choice([True, False]):\n",
        "            score += 10  # Award points for True outcome\n",
        "        else:\n",
        "            score -= 5  # Deduct points for False outcome\n",
        "    return score\n",
        "\n",
        "game_score = play_game()\n",
        "print(f\"Final game score: {game_score}\")\n",
        "\n",
        "# Randomly decide to print a message\n",
        "messages = [\"Hello!\", \"Goodbye!\", \"How are you?\", \"Have a nice day!\"]\n",
        "should_print_message = random.choice([True, False])\n",
        "\n",
        "if should_print_message:\n",
        "    print(random.choice(messages))\n",
        "else:\n",
        "    print(\"No message printed\")\n",
        "\n",
        "# Randomly decide to execute a function\n",
        "def greet():\n",
        "    print(\"Hello, welcome!\")\n",
        "\n",
        "if random.choice([True, False]):\n",
        "    greet()\n",
        "else:\n",
        "    print(\"Greet function not executed\")"
      ],
      "metadata": {
        "colab": {
          "base_uri": "https://localhost:8080/"
        },
        "id": "xw_dvuhykSYZ",
        "outputId": "b762c273-3c87-49f3-e99a-294374de6a08"
      },
      "execution_count": null,
      "outputs": [
        {
          "output_type": "stream",
          "name": "stdout",
          "text": [
            "True\n",
            "Random boolean is True\n",
            "0.7348969541191057\n",
            "True\n",
            "17\n",
            "False\n",
            "This loop iteration is False\n",
            "This loop iteration is True\n",
            "This loop iteration is True\n",
            "This loop iteration is False\n",
            "This loop iteration is False\n",
            "Tails\n",
            "Tails\n",
            "No action performed\n",
            "Final game score: 70\n",
            "Hello!\n",
            "Greet function not executed\n"
          ]
        }
      ]
    },
    {
      "cell_type": "markdown",
      "source": [
        "## Evaluating bool values:\n",
        "\n",
        "You can use bool() function to evaluate almost any value and get an answer. It'll give a True, if the value exists and a False if the value doesn't exist."
      ],
      "metadata": {
        "id": "Mc4yMZrhFT6G"
      }
    },
    {
      "cell_type": "code",
      "source": [
        "# Here's its implementation:\n",
        "\n",
        "# Understanding the bool() function in Python\n",
        "\n",
        "# The bool() function in Python is used to return a Boolean value (True or False) from a given object.\n",
        "# The function is straightforward, but its behavior can vary depending on the type of object passed to it.\n",
        "\n",
        "# Basic Usage\n",
        "# Calling bool() on a value returns either True or False.\n",
        "print(bool(1))     # Output: True\n",
        "print(bool(0))     # Output: False\n",
        "print(bool(\"Hello\"))  # Output: True\n",
        "print(bool(\"\"))    # Output: False\n"
      ],
      "metadata": {
        "colab": {
          "base_uri": "https://localhost:8080/"
        },
        "id": "uRbrqASOFnhQ",
        "outputId": "ae8a9015-cb29-43b1-afbb-a98ed4dd7653"
      },
      "execution_count": 1,
      "outputs": [
        {
          "output_type": "stream",
          "name": "stdout",
          "text": [
            "True\n",
            "False\n",
            "True\n",
            "False\n"
          ]
        }
      ]
    },
    {
      "cell_type": "markdown",
      "source": [
        "### **General Rules:**\n",
        "\n",
        "bool() returns False for the following values:\n",
        "* None\n",
        "* False\n",
        "* Zero of any numeric type: 0, 0.0, 0j\n",
        "* Empty sequences and collections: '', (), [], {}\n",
        "* For all other values, bool() returns True."
      ],
      "metadata": {
        "id": "vWElXRduGadL"
      }
    },
    {
      "cell_type": "code",
      "source": [
        "# Checking None\n",
        "# None is a special constant in Python that represents the absence of a value or a null value.\n",
        "print(bool(None))  # Output: False\n",
        "\n",
        "# Checking False\n",
        "# The boolean value False explicitly returns False.\n",
        "print(bool(False)) # Output: False\n",
        "\n"
      ],
      "metadata": {
        "id": "Wr-ZTB2UHLpO"
      },
      "execution_count": null,
      "outputs": []
    },
    {
      "cell_type": "code",
      "source": [
        "# Checking Numbers\n",
        "# Zero of any numeric type returns False. All other numbers return True.\n",
        "print(bool(0))     # Output: False\n",
        "print(bool(1))     # Output: True\n",
        "print(bool(-1))    # Output: True\n",
        "print(bool(0.0))   # Output: False\n",
        "print(bool(0.1))   # Output: True\n",
        "\n",
        "# Checking Strings\n",
        "# An empty string returns False. All other strings return True.\n",
        "print(bool(\"\"))    # Output: False\n",
        "print(bool(\" \"))   # Output: True\n",
        "print(bool(\"False\")) # Output: True\n",
        "\n",
        "# Checking Sequences and Collections\n",
        "# Empty sequences (like lists, tuples) and collections (like dictionaries, sets) return False.\n",
        "# Non-empty sequences and collections return True.\n",
        "print(bool([]))    # Output: False\n",
        "print(bool([1, 2, 3])) # Output: True\n",
        "print(bool(()))    # Output: False\n",
        "print(bool((1, 2))) # Output: True\n",
        "print(bool({}))    # Output: False\n",
        "print(bool({\"key\": \"value\"})) # Output: True\n",
        "\n"
      ],
      "metadata": {
        "id": "tz06SbRzHsQ9"
      },
      "execution_count": null,
      "outputs": []
    },
    {
      "cell_type": "markdown",
      "source": [
        "## Custom Objects\n",
        "\n",
        "Boolean values can also be used with objects made up of class definition. It's okay, we will be learning the concepts of class and objects later on. Remember, Python is an object-oriented language. So, custom objects will be obvious topic while learning python."
      ],
      "metadata": {
        "id": "QSIKuKn7Hyg3"
      }
    },
    {
      "cell_type": "code",
      "source": [
        "# By default, instances of user-defined classes are considered True. However, you can customize this behavior.\n",
        "class MyClass:\n",
        "    pass\n",
        "\n",
        "class MyFalseClass:\n",
        "    def __bool__(self):\n",
        "        return False\n",
        "\n",
        "obj1 = MyClass()\n",
        "obj2 = MyFalseClass()\n",
        "\n",
        "print(bool(obj1))  # Output: True\n",
        "print(bool(obj2))  # Output: False\n",
        "\n",
        "# Customizing Boolean Value\n",
        "# You can define a __bool__() method in your class to control its boolean value.\n",
        "class CustomClass:\n",
        "    def __bool__(self):\n",
        "        return False\n",
        "\n",
        "custom_obj = CustomClass()\n",
        "print(bool(custom_obj))  # Output: False\n",
        "\n",
        "# If __bool__ is not defined, Python checks for a __len__() method and returns False if __len__() returns zero.\n",
        "class LenBasedClass:\n",
        "    def __len__(self):\n",
        "        return 0\n",
        "\n",
        "len_based_obj = LenBasedClass()\n",
        "print(bool(len_based_obj))  # Output: False\n"
      ],
      "metadata": {
        "id": "Hy0KKZqMHxUx"
      },
      "execution_count": null,
      "outputs": []
    },
    {
      "cell_type": "markdown",
      "source": [
        "## Summary\n",
        "* The bool() function is essential for determining the truthiness of an object.\n",
        "* It follows simple rules to evaluate different types, and it can be customized for user-defined classes."
      ],
      "metadata": {
        "id": "oDEIXzJ7HO4U"
      }
    },
    {
      "cell_type": "code",
      "source": [],
      "metadata": {
        "id": "IFvjLmidkwM_"
      },
      "execution_count": null,
      "outputs": []
    },
    {
      "cell_type": "code",
      "source": [],
      "metadata": {
        "id": "74_MFNDHFAgr"
      },
      "execution_count": null,
      "outputs": []
    }
  ]
}